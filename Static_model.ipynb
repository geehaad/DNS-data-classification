{
  "nbformat": 4,
  "nbformat_minor": 0,
  "metadata": {
    "colab": {
      "provenance": [],
      "collapsed_sections": [
        "mpYefgqCzvUr",
        "sOARFj5i0iKK",
        "F1dw5Nvg0ogH"
      ],
      "toc_visible": true
    },
    "kernelspec": {
      "name": "python3",
      "display_name": "Python 3"
    },
    "language_info": {
      "name": "python"
    }
  },
  "cells": [
    {
      "cell_type": "code",
      "source": [
        "# Connect colab with drive\n",
        "from google.colab import drive\n",
        "drive.mount('/content/drive')"
      ],
      "metadata": {
        "colab": {
          "base_uri": "https://localhost:8080/"
        },
        "id": "m2cxcfpq09Oc",
        "outputId": "9f2aceb1-45e3-4d0a-c8ed-7013ca773af9"
      },
      "execution_count": 279,
      "outputs": [
        {
          "output_type": "stream",
          "name": "stdout",
          "text": [
            "Drive already mounted at /content/drive; to attempt to forcibly remount, call drive.mount(\"/content/drive\", force_remount=True).\n"
          ]
        }
      ]
    },
    {
      "cell_type": "code",
      "execution_count": 280,
      "metadata": {
        "id": "9XFsJhTSzIX0"
      },
      "outputs": [],
      "source": [
        "# Import Libraries\n",
        "import pandas as pd\n",
        "import numpy as np\n",
        "import matplotlib.pyplot as plt\n",
        "import seaborn as sns"
      ]
    },
    {
      "cell_type": "code",
      "source": [
        "import warnings\n",
        "warnings.filterwarnings('ignore')"
      ],
      "metadata": {
        "id": "95fmhrLTlIpE"
      },
      "execution_count": 281,
      "outputs": []
    },
    {
      "cell_type": "code",
      "source": [
        "# Read static dataset\n",
        "df = pd.read_csv(\"/content/drive/MyDrive/AI_CS/Static_dataset.csv\")"
      ],
      "metadata": {
        "id": "caFqOie_4D6D"
      },
      "execution_count": 282,
      "outputs": []
    },
    {
      "cell_type": "code",
      "source": [
        "# Show first five rows of the dataset \n",
        "df.head()"
      ],
      "metadata": {
        "colab": {
          "base_uri": "https://localhost:8080/",
          "height": 288
        },
        "id": "76AM6jnl4G-k",
        "outputId": "eb6e5c73-43bd-48e6-a54f-010fb008772c"
      },
      "execution_count": 283,
      "outputs": [
        {
          "output_type": "execute_result",
          "data": {
            "text/plain": [
              "  timestamp  FQDN_count  subdomain_length  upper  lower  numeric   entropy  \\\n",
              "0   56:19.8          27                10      0     10       11  2.570417   \n",
              "1   07:23.9          27                10      0     10       11  2.767195   \n",
              "2   23:15.1          26                 9      0     10       10  2.742338   \n",
              "3   04:51.9          27                10      0     10       11  2.570417   \n",
              "4   12:44.0          15                 9      0     11        0  2.929439   \n",
              "\n",
              "   special  labels  labels_max  labels_average longest_word    sld  len  \\\n",
              "0        6       6           7        3.666667            2    192   14   \n",
              "1        6       6           7        3.666667            2    192   14   \n",
              "2        6       6           7        3.500000            2    192   13   \n",
              "3        6       6           7        3.666667            2    192   14   \n",
              "4        4       3           5        4.333333        local  local   15   \n",
              "\n",
              "   subdomain  Target Attack  \n",
              "0          1              1  \n",
              "1          1              1  \n",
              "2          1              0  \n",
              "3          1              1  \n",
              "4          1              1  "
            ],
            "text/html": [
              "\n",
              "  <div id=\"df-17235e66-55ab-4fea-9034-9cd2ea5772e4\">\n",
              "    <div class=\"colab-df-container\">\n",
              "      <div>\n",
              "<style scoped>\n",
              "    .dataframe tbody tr th:only-of-type {\n",
              "        vertical-align: middle;\n",
              "    }\n",
              "\n",
              "    .dataframe tbody tr th {\n",
              "        vertical-align: top;\n",
              "    }\n",
              "\n",
              "    .dataframe thead th {\n",
              "        text-align: right;\n",
              "    }\n",
              "</style>\n",
              "<table border=\"1\" class=\"dataframe\">\n",
              "  <thead>\n",
              "    <tr style=\"text-align: right;\">\n",
              "      <th></th>\n",
              "      <th>timestamp</th>\n",
              "      <th>FQDN_count</th>\n",
              "      <th>subdomain_length</th>\n",
              "      <th>upper</th>\n",
              "      <th>lower</th>\n",
              "      <th>numeric</th>\n",
              "      <th>entropy</th>\n",
              "      <th>special</th>\n",
              "      <th>labels</th>\n",
              "      <th>labels_max</th>\n",
              "      <th>labels_average</th>\n",
              "      <th>longest_word</th>\n",
              "      <th>sld</th>\n",
              "      <th>len</th>\n",
              "      <th>subdomain</th>\n",
              "      <th>Target Attack</th>\n",
              "    </tr>\n",
              "  </thead>\n",
              "  <tbody>\n",
              "    <tr>\n",
              "      <th>0</th>\n",
              "      <td>56:19.8</td>\n",
              "      <td>27</td>\n",
              "      <td>10</td>\n",
              "      <td>0</td>\n",
              "      <td>10</td>\n",
              "      <td>11</td>\n",
              "      <td>2.570417</td>\n",
              "      <td>6</td>\n",
              "      <td>6</td>\n",
              "      <td>7</td>\n",
              "      <td>3.666667</td>\n",
              "      <td>2</td>\n",
              "      <td>192</td>\n",
              "      <td>14</td>\n",
              "      <td>1</td>\n",
              "      <td>1</td>\n",
              "    </tr>\n",
              "    <tr>\n",
              "      <th>1</th>\n",
              "      <td>07:23.9</td>\n",
              "      <td>27</td>\n",
              "      <td>10</td>\n",
              "      <td>0</td>\n",
              "      <td>10</td>\n",
              "      <td>11</td>\n",
              "      <td>2.767195</td>\n",
              "      <td>6</td>\n",
              "      <td>6</td>\n",
              "      <td>7</td>\n",
              "      <td>3.666667</td>\n",
              "      <td>2</td>\n",
              "      <td>192</td>\n",
              "      <td>14</td>\n",
              "      <td>1</td>\n",
              "      <td>1</td>\n",
              "    </tr>\n",
              "    <tr>\n",
              "      <th>2</th>\n",
              "      <td>23:15.1</td>\n",
              "      <td>26</td>\n",
              "      <td>9</td>\n",
              "      <td>0</td>\n",
              "      <td>10</td>\n",
              "      <td>10</td>\n",
              "      <td>2.742338</td>\n",
              "      <td>6</td>\n",
              "      <td>6</td>\n",
              "      <td>7</td>\n",
              "      <td>3.500000</td>\n",
              "      <td>2</td>\n",
              "      <td>192</td>\n",
              "      <td>13</td>\n",
              "      <td>1</td>\n",
              "      <td>0</td>\n",
              "    </tr>\n",
              "    <tr>\n",
              "      <th>3</th>\n",
              "      <td>04:51.9</td>\n",
              "      <td>27</td>\n",
              "      <td>10</td>\n",
              "      <td>0</td>\n",
              "      <td>10</td>\n",
              "      <td>11</td>\n",
              "      <td>2.570417</td>\n",
              "      <td>6</td>\n",
              "      <td>6</td>\n",
              "      <td>7</td>\n",
              "      <td>3.666667</td>\n",
              "      <td>2</td>\n",
              "      <td>192</td>\n",
              "      <td>14</td>\n",
              "      <td>1</td>\n",
              "      <td>1</td>\n",
              "    </tr>\n",
              "    <tr>\n",
              "      <th>4</th>\n",
              "      <td>12:44.0</td>\n",
              "      <td>15</td>\n",
              "      <td>9</td>\n",
              "      <td>0</td>\n",
              "      <td>11</td>\n",
              "      <td>0</td>\n",
              "      <td>2.929439</td>\n",
              "      <td>4</td>\n",
              "      <td>3</td>\n",
              "      <td>5</td>\n",
              "      <td>4.333333</td>\n",
              "      <td>local</td>\n",
              "      <td>local</td>\n",
              "      <td>15</td>\n",
              "      <td>1</td>\n",
              "      <td>1</td>\n",
              "    </tr>\n",
              "  </tbody>\n",
              "</table>\n",
              "</div>\n",
              "      <button class=\"colab-df-convert\" onclick=\"convertToInteractive('df-17235e66-55ab-4fea-9034-9cd2ea5772e4')\"\n",
              "              title=\"Convert this dataframe to an interactive table.\"\n",
              "              style=\"display:none;\">\n",
              "        \n",
              "  <svg xmlns=\"http://www.w3.org/2000/svg\" height=\"24px\"viewBox=\"0 0 24 24\"\n",
              "       width=\"24px\">\n",
              "    <path d=\"M0 0h24v24H0V0z\" fill=\"none\"/>\n",
              "    <path d=\"M18.56 5.44l.94 2.06.94-2.06 2.06-.94-2.06-.94-.94-2.06-.94 2.06-2.06.94zm-11 1L8.5 8.5l.94-2.06 2.06-.94-2.06-.94L8.5 2.5l-.94 2.06-2.06.94zm10 10l.94 2.06.94-2.06 2.06-.94-2.06-.94-.94-2.06-.94 2.06-2.06.94z\"/><path d=\"M17.41 7.96l-1.37-1.37c-.4-.4-.92-.59-1.43-.59-.52 0-1.04.2-1.43.59L10.3 9.45l-7.72 7.72c-.78.78-.78 2.05 0 2.83L4 21.41c.39.39.9.59 1.41.59.51 0 1.02-.2 1.41-.59l7.78-7.78 2.81-2.81c.8-.78.8-2.07 0-2.86zM5.41 20L4 18.59l7.72-7.72 1.47 1.35L5.41 20z\"/>\n",
              "  </svg>\n",
              "      </button>\n",
              "      \n",
              "  <style>\n",
              "    .colab-df-container {\n",
              "      display:flex;\n",
              "      flex-wrap:wrap;\n",
              "      gap: 12px;\n",
              "    }\n",
              "\n",
              "    .colab-df-convert {\n",
              "      background-color: #E8F0FE;\n",
              "      border: none;\n",
              "      border-radius: 50%;\n",
              "      cursor: pointer;\n",
              "      display: none;\n",
              "      fill: #1967D2;\n",
              "      height: 32px;\n",
              "      padding: 0 0 0 0;\n",
              "      width: 32px;\n",
              "    }\n",
              "\n",
              "    .colab-df-convert:hover {\n",
              "      background-color: #E2EBFA;\n",
              "      box-shadow: 0px 1px 2px rgba(60, 64, 67, 0.3), 0px 1px 3px 1px rgba(60, 64, 67, 0.15);\n",
              "      fill: #174EA6;\n",
              "    }\n",
              "\n",
              "    [theme=dark] .colab-df-convert {\n",
              "      background-color: #3B4455;\n",
              "      fill: #D2E3FC;\n",
              "    }\n",
              "\n",
              "    [theme=dark] .colab-df-convert:hover {\n",
              "      background-color: #434B5C;\n",
              "      box-shadow: 0px 1px 3px 1px rgba(0, 0, 0, 0.15);\n",
              "      filter: drop-shadow(0px 1px 2px rgba(0, 0, 0, 0.3));\n",
              "      fill: #FFFFFF;\n",
              "    }\n",
              "  </style>\n",
              "\n",
              "      <script>\n",
              "        const buttonEl =\n",
              "          document.querySelector('#df-17235e66-55ab-4fea-9034-9cd2ea5772e4 button.colab-df-convert');\n",
              "        buttonEl.style.display =\n",
              "          google.colab.kernel.accessAllowed ? 'block' : 'none';\n",
              "\n",
              "        async function convertToInteractive(key) {\n",
              "          const element = document.querySelector('#df-17235e66-55ab-4fea-9034-9cd2ea5772e4');\n",
              "          const dataTable =\n",
              "            await google.colab.kernel.invokeFunction('convertToInteractive',\n",
              "                                                     [key], {});\n",
              "          if (!dataTable) return;\n",
              "\n",
              "          const docLinkHtml = 'Like what you see? Visit the ' +\n",
              "            '<a target=\"_blank\" href=https://colab.research.google.com/notebooks/data_table.ipynb>data table notebook</a>'\n",
              "            + ' to learn more about interactive tables.';\n",
              "          element.innerHTML = '';\n",
              "          dataTable['output_type'] = 'display_data';\n",
              "          await google.colab.output.renderOutput(dataTable, element);\n",
              "          const docLink = document.createElement('div');\n",
              "          docLink.innerHTML = docLinkHtml;\n",
              "          element.appendChild(docLink);\n",
              "        }\n",
              "      </script>\n",
              "    </div>\n",
              "  </div>\n",
              "  "
            ]
          },
          "metadata": {},
          "execution_count": 283
        }
      ]
    },
    {
      "cell_type": "markdown",
      "source": [
        "#Data Analysis: "
      ],
      "metadata": {
        "id": "BMHw6Bni5zAj"
      }
    },
    {
      "cell_type": "markdown",
      "source": [
        "## Number of columns and rows in dataset"
      ],
      "metadata": {
        "id": "TtIMhcAoxUlE"
      }
    },
    {
      "cell_type": "code",
      "source": [
        "df.shape"
      ],
      "metadata": {
        "colab": {
          "base_uri": "https://localhost:8080/"
        },
        "id": "usQAO9TAxXqi",
        "outputId": "60085b01-42c3-4257-93e0-926107eb4998"
      },
      "execution_count": 284,
      "outputs": [
        {
          "output_type": "execute_result",
          "data": {
            "text/plain": [
              "(268074, 16)"
            ]
          },
          "metadata": {},
          "execution_count": 284
        }
      ]
    },
    {
      "cell_type": "code",
      "source": [
        "# The columns in the data set\n",
        "for column in df.columns:\n",
        "  print(column)"
      ],
      "metadata": {
        "colab": {
          "base_uri": "https://localhost:8080/"
        },
        "id": "713EalYuPccz",
        "outputId": "647dffe6-14b4-4662-afbf-a7ce4b5d8987"
      },
      "execution_count": 285,
      "outputs": [
        {
          "output_type": "stream",
          "name": "stdout",
          "text": [
            "timestamp\n",
            "FQDN_count\n",
            "subdomain_length\n",
            "upper\n",
            "lower\n",
            "numeric\n",
            "entropy\n",
            "special\n",
            "labels\n",
            "labels_max\n",
            "labels_average\n",
            "longest_word\n",
            "sld\n",
            "len\n",
            "subdomain\n",
            "Target Attack\n"
          ]
        }
      ]
    },
    {
      "cell_type": "markdown",
      "source": [
        "##The distribution of each feature and the target variable"
      ],
      "metadata": {
        "id": "4Pikdr3V5vGR"
      }
    },
    {
      "cell_type": "code",
      "source": [
        "df.describe()"
      ],
      "metadata": {
        "colab": {
          "base_uri": "https://localhost:8080/",
          "height": 382
        },
        "id": "smfXt-sg4JdP",
        "outputId": "994f6ad0-9475-4b23-8b91-45635af9f354"
      },
      "execution_count": 286,
      "outputs": [
        {
          "output_type": "execute_result",
          "data": {
            "text/plain": [
              "          FQDN_count  subdomain_length          upper          lower  \\\n",
              "count  268074.000000     268074.000000  268074.000000  268074.000000   \n",
              "mean       22.286596          6.059021       0.845420      10.410014   \n",
              "std         6.001205          3.899505       4.941929       3.207725   \n",
              "min         2.000000          0.000000       0.000000       0.000000   \n",
              "25%        18.000000          3.000000       0.000000      10.000000   \n",
              "50%        24.000000          7.000000       0.000000      10.000000   \n",
              "75%        27.000000         10.000000       0.000000      10.000000   \n",
              "max        36.000000         23.000000      32.000000      34.000000   \n",
              "\n",
              "             numeric        entropy        special         labels  \\\n",
              "count  268074.000000  268074.000000  268074.000000  268074.000000   \n",
              "mean        6.497586       2.485735       4.533577       4.788823   \n",
              "std         4.499866       0.407709       2.187683       1.803256   \n",
              "min         0.000000       0.219195       0.000000       1.000000   \n",
              "25%         0.000000       2.054029       2.000000       3.000000   \n",
              "50%         8.000000       2.570417       6.000000       6.000000   \n",
              "75%        10.000000       2.767195       6.000000       6.000000   \n",
              "max        12.000000       4.216847       7.000000       7.000000   \n",
              "\n",
              "          labels_max  labels_average            len      subdomain  \\\n",
              "count  268074.000000   268074.000000  268074.000000  268074.000000   \n",
              "mean        8.252233        4.802239      12.576714       0.753497   \n",
              "std         4.415355        4.573066       4.177828       0.430975   \n",
              "min         2.000000        2.000000       2.000000       0.000000   \n",
              "25%         7.000000        3.166667      11.000000       1.000000   \n",
              "50%         7.000000        3.666667      12.000000       1.000000   \n",
              "75%         7.000000        4.000000      14.000000       1.000000   \n",
              "max        32.000000       32.000000      33.000000       1.000000   \n",
              "\n",
              "       Target Attack  \n",
              "count  268074.000000  \n",
              "mean        0.549024  \n",
              "std         0.497592  \n",
              "min         0.000000  \n",
              "25%         0.000000  \n",
              "50%         1.000000  \n",
              "75%         1.000000  \n",
              "max         1.000000  "
            ],
            "text/html": [
              "\n",
              "  <div id=\"df-413257b1-3a09-40a5-83d8-680334e5cdf6\">\n",
              "    <div class=\"colab-df-container\">\n",
              "      <div>\n",
              "<style scoped>\n",
              "    .dataframe tbody tr th:only-of-type {\n",
              "        vertical-align: middle;\n",
              "    }\n",
              "\n",
              "    .dataframe tbody tr th {\n",
              "        vertical-align: top;\n",
              "    }\n",
              "\n",
              "    .dataframe thead th {\n",
              "        text-align: right;\n",
              "    }\n",
              "</style>\n",
              "<table border=\"1\" class=\"dataframe\">\n",
              "  <thead>\n",
              "    <tr style=\"text-align: right;\">\n",
              "      <th></th>\n",
              "      <th>FQDN_count</th>\n",
              "      <th>subdomain_length</th>\n",
              "      <th>upper</th>\n",
              "      <th>lower</th>\n",
              "      <th>numeric</th>\n",
              "      <th>entropy</th>\n",
              "      <th>special</th>\n",
              "      <th>labels</th>\n",
              "      <th>labels_max</th>\n",
              "      <th>labels_average</th>\n",
              "      <th>len</th>\n",
              "      <th>subdomain</th>\n",
              "      <th>Target Attack</th>\n",
              "    </tr>\n",
              "  </thead>\n",
              "  <tbody>\n",
              "    <tr>\n",
              "      <th>count</th>\n",
              "      <td>268074.000000</td>\n",
              "      <td>268074.000000</td>\n",
              "      <td>268074.000000</td>\n",
              "      <td>268074.000000</td>\n",
              "      <td>268074.000000</td>\n",
              "      <td>268074.000000</td>\n",
              "      <td>268074.000000</td>\n",
              "      <td>268074.000000</td>\n",
              "      <td>268074.000000</td>\n",
              "      <td>268074.000000</td>\n",
              "      <td>268074.000000</td>\n",
              "      <td>268074.000000</td>\n",
              "      <td>268074.000000</td>\n",
              "    </tr>\n",
              "    <tr>\n",
              "      <th>mean</th>\n",
              "      <td>22.286596</td>\n",
              "      <td>6.059021</td>\n",
              "      <td>0.845420</td>\n",
              "      <td>10.410014</td>\n",
              "      <td>6.497586</td>\n",
              "      <td>2.485735</td>\n",
              "      <td>4.533577</td>\n",
              "      <td>4.788823</td>\n",
              "      <td>8.252233</td>\n",
              "      <td>4.802239</td>\n",
              "      <td>12.576714</td>\n",
              "      <td>0.753497</td>\n",
              "      <td>0.549024</td>\n",
              "    </tr>\n",
              "    <tr>\n",
              "      <th>std</th>\n",
              "      <td>6.001205</td>\n",
              "      <td>3.899505</td>\n",
              "      <td>4.941929</td>\n",
              "      <td>3.207725</td>\n",
              "      <td>4.499866</td>\n",
              "      <td>0.407709</td>\n",
              "      <td>2.187683</td>\n",
              "      <td>1.803256</td>\n",
              "      <td>4.415355</td>\n",
              "      <td>4.573066</td>\n",
              "      <td>4.177828</td>\n",
              "      <td>0.430975</td>\n",
              "      <td>0.497592</td>\n",
              "    </tr>\n",
              "    <tr>\n",
              "      <th>min</th>\n",
              "      <td>2.000000</td>\n",
              "      <td>0.000000</td>\n",
              "      <td>0.000000</td>\n",
              "      <td>0.000000</td>\n",
              "      <td>0.000000</td>\n",
              "      <td>0.219195</td>\n",
              "      <td>0.000000</td>\n",
              "      <td>1.000000</td>\n",
              "      <td>2.000000</td>\n",
              "      <td>2.000000</td>\n",
              "      <td>2.000000</td>\n",
              "      <td>0.000000</td>\n",
              "      <td>0.000000</td>\n",
              "    </tr>\n",
              "    <tr>\n",
              "      <th>25%</th>\n",
              "      <td>18.000000</td>\n",
              "      <td>3.000000</td>\n",
              "      <td>0.000000</td>\n",
              "      <td>10.000000</td>\n",
              "      <td>0.000000</td>\n",
              "      <td>2.054029</td>\n",
              "      <td>2.000000</td>\n",
              "      <td>3.000000</td>\n",
              "      <td>7.000000</td>\n",
              "      <td>3.166667</td>\n",
              "      <td>11.000000</td>\n",
              "      <td>1.000000</td>\n",
              "      <td>0.000000</td>\n",
              "    </tr>\n",
              "    <tr>\n",
              "      <th>50%</th>\n",
              "      <td>24.000000</td>\n",
              "      <td>7.000000</td>\n",
              "      <td>0.000000</td>\n",
              "      <td>10.000000</td>\n",
              "      <td>8.000000</td>\n",
              "      <td>2.570417</td>\n",
              "      <td>6.000000</td>\n",
              "      <td>6.000000</td>\n",
              "      <td>7.000000</td>\n",
              "      <td>3.666667</td>\n",
              "      <td>12.000000</td>\n",
              "      <td>1.000000</td>\n",
              "      <td>1.000000</td>\n",
              "    </tr>\n",
              "    <tr>\n",
              "      <th>75%</th>\n",
              "      <td>27.000000</td>\n",
              "      <td>10.000000</td>\n",
              "      <td>0.000000</td>\n",
              "      <td>10.000000</td>\n",
              "      <td>10.000000</td>\n",
              "      <td>2.767195</td>\n",
              "      <td>6.000000</td>\n",
              "      <td>6.000000</td>\n",
              "      <td>7.000000</td>\n",
              "      <td>4.000000</td>\n",
              "      <td>14.000000</td>\n",
              "      <td>1.000000</td>\n",
              "      <td>1.000000</td>\n",
              "    </tr>\n",
              "    <tr>\n",
              "      <th>max</th>\n",
              "      <td>36.000000</td>\n",
              "      <td>23.000000</td>\n",
              "      <td>32.000000</td>\n",
              "      <td>34.000000</td>\n",
              "      <td>12.000000</td>\n",
              "      <td>4.216847</td>\n",
              "      <td>7.000000</td>\n",
              "      <td>7.000000</td>\n",
              "      <td>32.000000</td>\n",
              "      <td>32.000000</td>\n",
              "      <td>33.000000</td>\n",
              "      <td>1.000000</td>\n",
              "      <td>1.000000</td>\n",
              "    </tr>\n",
              "  </tbody>\n",
              "</table>\n",
              "</div>\n",
              "      <button class=\"colab-df-convert\" onclick=\"convertToInteractive('df-413257b1-3a09-40a5-83d8-680334e5cdf6')\"\n",
              "              title=\"Convert this dataframe to an interactive table.\"\n",
              "              style=\"display:none;\">\n",
              "        \n",
              "  <svg xmlns=\"http://www.w3.org/2000/svg\" height=\"24px\"viewBox=\"0 0 24 24\"\n",
              "       width=\"24px\">\n",
              "    <path d=\"M0 0h24v24H0V0z\" fill=\"none\"/>\n",
              "    <path d=\"M18.56 5.44l.94 2.06.94-2.06 2.06-.94-2.06-.94-.94-2.06-.94 2.06-2.06.94zm-11 1L8.5 8.5l.94-2.06 2.06-.94-2.06-.94L8.5 2.5l-.94 2.06-2.06.94zm10 10l.94 2.06.94-2.06 2.06-.94-2.06-.94-.94-2.06-.94 2.06-2.06.94z\"/><path d=\"M17.41 7.96l-1.37-1.37c-.4-.4-.92-.59-1.43-.59-.52 0-1.04.2-1.43.59L10.3 9.45l-7.72 7.72c-.78.78-.78 2.05 0 2.83L4 21.41c.39.39.9.59 1.41.59.51 0 1.02-.2 1.41-.59l7.78-7.78 2.81-2.81c.8-.78.8-2.07 0-2.86zM5.41 20L4 18.59l7.72-7.72 1.47 1.35L5.41 20z\"/>\n",
              "  </svg>\n",
              "      </button>\n",
              "      \n",
              "  <style>\n",
              "    .colab-df-container {\n",
              "      display:flex;\n",
              "      flex-wrap:wrap;\n",
              "      gap: 12px;\n",
              "    }\n",
              "\n",
              "    .colab-df-convert {\n",
              "      background-color: #E8F0FE;\n",
              "      border: none;\n",
              "      border-radius: 50%;\n",
              "      cursor: pointer;\n",
              "      display: none;\n",
              "      fill: #1967D2;\n",
              "      height: 32px;\n",
              "      padding: 0 0 0 0;\n",
              "      width: 32px;\n",
              "    }\n",
              "\n",
              "    .colab-df-convert:hover {\n",
              "      background-color: #E2EBFA;\n",
              "      box-shadow: 0px 1px 2px rgba(60, 64, 67, 0.3), 0px 1px 3px 1px rgba(60, 64, 67, 0.15);\n",
              "      fill: #174EA6;\n",
              "    }\n",
              "\n",
              "    [theme=dark] .colab-df-convert {\n",
              "      background-color: #3B4455;\n",
              "      fill: #D2E3FC;\n",
              "    }\n",
              "\n",
              "    [theme=dark] .colab-df-convert:hover {\n",
              "      background-color: #434B5C;\n",
              "      box-shadow: 0px 1px 3px 1px rgba(0, 0, 0, 0.15);\n",
              "      filter: drop-shadow(0px 1px 2px rgba(0, 0, 0, 0.3));\n",
              "      fill: #FFFFFF;\n",
              "    }\n",
              "  </style>\n",
              "\n",
              "      <script>\n",
              "        const buttonEl =\n",
              "          document.querySelector('#df-413257b1-3a09-40a5-83d8-680334e5cdf6 button.colab-df-convert');\n",
              "        buttonEl.style.display =\n",
              "          google.colab.kernel.accessAllowed ? 'block' : 'none';\n",
              "\n",
              "        async function convertToInteractive(key) {\n",
              "          const element = document.querySelector('#df-413257b1-3a09-40a5-83d8-680334e5cdf6');\n",
              "          const dataTable =\n",
              "            await google.colab.kernel.invokeFunction('convertToInteractive',\n",
              "                                                     [key], {});\n",
              "          if (!dataTable) return;\n",
              "\n",
              "          const docLinkHtml = 'Like what you see? Visit the ' +\n",
              "            '<a target=\"_blank\" href=https://colab.research.google.com/notebooks/data_table.ipynb>data table notebook</a>'\n",
              "            + ' to learn more about interactive tables.';\n",
              "          element.innerHTML = '';\n",
              "          dataTable['output_type'] = 'display_data';\n",
              "          await google.colab.output.renderOutput(dataTable, element);\n",
              "          const docLink = document.createElement('div');\n",
              "          docLink.innerHTML = docLinkHtml;\n",
              "          element.appendChild(docLink);\n",
              "        }\n",
              "      </script>\n",
              "    </div>\n",
              "  </div>\n",
              "  "
            ]
          },
          "metadata": {},
          "execution_count": 286
        }
      ]
    },
    {
      "cell_type": "code",
      "source": [
        "df.info()"
      ],
      "metadata": {
        "colab": {
          "base_uri": "https://localhost:8080/"
        },
        "id": "Dv62hPAIJCdy",
        "outputId": "193c3430-74c1-4a85-a957-d4c3a73f06f1"
      },
      "execution_count": 287,
      "outputs": [
        {
          "output_type": "stream",
          "name": "stdout",
          "text": [
            "<class 'pandas.core.frame.DataFrame'>\n",
            "RangeIndex: 268074 entries, 0 to 268073\n",
            "Data columns (total 16 columns):\n",
            " #   Column            Non-Null Count   Dtype  \n",
            "---  ------            --------------   -----  \n",
            " 0   timestamp         268074 non-null  object \n",
            " 1   FQDN_count        268074 non-null  int64  \n",
            " 2   subdomain_length  268074 non-null  int64  \n",
            " 3   upper             268074 non-null  int64  \n",
            " 4   lower             268074 non-null  int64  \n",
            " 5   numeric           268074 non-null  int64  \n",
            " 6   entropy           268074 non-null  float64\n",
            " 7   special           268074 non-null  int64  \n",
            " 8   labels            268074 non-null  int64  \n",
            " 9   labels_max        268074 non-null  int64  \n",
            " 10  labels_average    268074 non-null  float64\n",
            " 11  longest_word      268066 non-null  object \n",
            " 12  sld               268074 non-null  object \n",
            " 13  len               268074 non-null  int64  \n",
            " 14  subdomain         268074 non-null  int64  \n",
            " 15  Target Attack     268074 non-null  int64  \n",
            "dtypes: float64(2), int64(11), object(3)\n",
            "memory usage: 32.7+ MB\n"
          ]
        }
      ]
    },
    {
      "cell_type": "markdown",
      "source": [
        "Not all columns are numeric, we will deal with it in next steps."
      ],
      "metadata": {
        "id": "5N-QmWx9RYg9"
      }
    },
    {
      "cell_type": "code",
      "source": [
        "df.hist(bins=100, figsize=(20,15))\n",
        "plt.show()"
      ],
      "metadata": {
        "colab": {
          "base_uri": "https://localhost:8080/",
          "height": 705
        },
        "id": "3JMUkbUK_v7c",
        "outputId": "355f6c2f-6c20-401e-c134-175a6a9188ef"
      },
      "execution_count": 288,
      "outputs": [
        {
          "output_type": "display_data",
          "data": {
            "text/plain": [
              "<Figure size 1440x1080 with 16 Axes>"
            ],
            "image/png": "[encoded data removed]"
          },
          "metadata": {
            "needs_background": "light"
          }
        }
      ]
    },
    {
      "cell_type": "markdown",
      "source": [
        "The features have different distribution."
      ],
      "metadata": {
        "id": "jYQRjG0_RRfc"
      }
    },
    {
      "cell_type": "code",
      "source": [
        "df['upper'].value_counts()"
      ],
      "metadata": {
        "colab": {
          "base_uri": "https://localhost:8080/"
        },
        "id": "RFEAsZvHJtWz",
        "outputId": "82dbcaa4-6f4b-487e-8dbe-01803c3c2e7c"
      },
      "execution_count": 289,
      "outputs": [
        {
          "output_type": "execute_result",
          "data": {
            "text/plain": [
              "0     258759\n",
              "32      6345\n",
              "11      1961\n",
              "2       1008\n",
              "8          1\n",
              "Name: upper, dtype: int64"
            ]
          },
          "metadata": {},
          "execution_count": 289
        }
      ]
    },
    {
      "cell_type": "code",
      "source": [
        "df['subdomain'].value_counts()"
      ],
      "metadata": {
        "colab": {
          "base_uri": "https://localhost:8080/"
        },
        "id": "pOwjXDhjKBCh",
        "outputId": "87d02798-c955-47a7-b346-54da12a41eac"
      },
      "execution_count": 290,
      "outputs": [
        {
          "output_type": "execute_result",
          "data": {
            "text/plain": [
              "1    201993\n",
              "0     66081\n",
              "Name: subdomain, dtype: int64"
            ]
          },
          "metadata": {},
          "execution_count": 290
        }
      ]
    },
    {
      "cell_type": "code",
      "source": [
        "df['labels'].value_counts()"
      ],
      "metadata": {
        "colab": {
          "base_uri": "https://localhost:8080/"
        },
        "id": "YuATcM0MMOd8",
        "outputId": "2058dba6-9b36-40a9-a0af-145c4c82b912"
      },
      "execution_count": 291,
      "outputs": [
        {
          "output_type": "execute_result",
          "data": {
            "text/plain": [
              "6    182035\n",
              "2     49983\n",
              "3     24029\n",
              "1      9582\n",
              "4      2323\n",
              "5       116\n",
              "7         6\n",
              "Name: labels, dtype: int64"
            ]
          },
          "metadata": {},
          "execution_count": 291
        }
      ]
    },
    {
      "cell_type": "markdown",
      "source": [
        "## Draw the number of values in each class to see if the data is balanced or imbalanced"
      ],
      "metadata": {
        "id": "gVWI9YtHGlGp"
      }
    },
    {
      "cell_type": "code",
      "source": [
        "df['Target Attack'].value_counts()"
      ],
      "metadata": {
        "colab": {
          "base_uri": "https://localhost:8080/"
        },
        "id": "_g8nSrH_Qdl_",
        "outputId": "5a9c1366-66e4-4cbe-f1a4-8f6a3b8beaa2"
      },
      "execution_count": 292,
      "outputs": [
        {
          "output_type": "execute_result",
          "data": {
            "text/plain": [
              "1    147179\n",
              "0    120895\n",
              "Name: Target Attack, dtype: int64"
            ]
          },
          "metadata": {},
          "execution_count": 292
        }
      ]
    },
    {
      "cell_type": "markdown",
      "source": [
        "### Pie plot"
      ],
      "metadata": {
        "id": "bYsW0QC5GxdS"
      }
    },
    {
      "cell_type": "code",
      "source": [
        "#define data\n",
        "data = df['Target Attack'].value_counts()\n",
        "labels = df['Target Attack'].unique()\n",
        "\n",
        "#define Seaborn color palette to use\n",
        "colors = sns.color_palette('pastel')[0:5]\n",
        "\n",
        "#create pie chart\n",
        "plt.pie(data, labels = labels, colors = colors, autopct='%.0f%%')\n",
        "plt.title(\"Target Attack pie plot\")\n",
        "plt.show()"
      ],
      "metadata": {
        "colab": {
          "base_uri": "https://localhost:8080/",
          "height": 264
        },
        "id": "ltYNgpVE5m6c",
        "outputId": "2bc1e427-7f7c-40d3-f0cc-429abb3fade0"
      },
      "execution_count": 293,
      "outputs": [
        {
          "output_type": "display_data",
          "data": {
            "text/plain": [
              "<Figure size 432x288 with 1 Axes>"
            ],
            "image/png": "[encoded data removed]"
          },
          "metadata": {}
        }
      ]
    },
    {
      "cell_type": "markdown",
      "source": [
        "### Bar plot"
      ],
      "metadata": {
        "id": "I94YXnKvGzPn"
      }
    },
    {
      "cell_type": "code",
      "source": [
        "plt.title(\"Target Attack bar plot\")\n",
        "sns.barplot(x=labels, y=data)"
      ],
      "metadata": {
        "colab": {
          "base_uri": "https://localhost:8080/",
          "height": 299
        },
        "id": "c7bPNwS9GBeo",
        "outputId": "27a78bdc-bbe6-4f5c-9c4f-ade6f4aea045"
      },
      "execution_count": 294,
      "outputs": [
        {
          "output_type": "execute_result",
          "data": {
            "text/plain": [
              "<matplotlib.axes._subplots.AxesSubplot at 0x7f149affc150>"
            ]
          },
          "metadata": {},
          "execution_count": 294
        },
        {
          "output_type": "display_data",
          "data": {
            "text/plain": [
              "<Figure size 432x288 with 1 Axes>"
            ],
            "image/png": "[encoded data removed]"
          },
          "metadata": {
            "needs_background": "light"
          }
        }
      ]
    },
    {
      "cell_type": "markdown",
      "source": [
        "The data set is balanced."
      ],
      "metadata": {
        "id": "HKKUollcRjHT"
      }
    },
    {
      "cell_type": "markdown",
      "source": [
        "### Data skewed pattern"
      ],
      "metadata": {
        "id": "1WC8c-JPIrMh"
      }
    },
    {
      "cell_type": "code",
      "source": [
        "df2 = df.loc[:, df.columns != 'Target Attack']"
      ],
      "metadata": {
        "id": "uDWhCmy0JdK5"
      },
      "execution_count": 295,
      "outputs": []
    },
    {
      "cell_type": "code",
      "source": [
        "df.skew()"
      ],
      "metadata": {
        "colab": {
          "base_uri": "https://localhost:8080/"
        },
        "id": "JUmSXrYVJEva",
        "outputId": "7d2eb207-7ecc-4423-f387-59593149c580"
      },
      "execution_count": 296,
      "outputs": [
        {
          "output_type": "execute_result",
          "data": {
            "text/plain": [
              "FQDN_count         -1.101731\n",
              "subdomain_length   -0.590480\n",
              "upper               5.988737\n",
              "lower               0.343449\n",
              "numeric            -0.594384\n",
              "entropy            -0.140156\n",
              "special            -0.902972\n",
              "labels             -0.903680\n",
              "labels_max          3.979910\n",
              "labels_average      5.087081\n",
              "len                 2.634801\n",
              "subdomain          -1.176397\n",
              "Target Attack      -0.197046\n",
              "dtype: float64"
            ]
          },
          "metadata": {},
          "execution_count": 296
        }
      ]
    },
    {
      "cell_type": "markdown",
      "source": [
        "The features has different skewed as some of it are right and other are left skewed."
      ],
      "metadata": {
        "id": "DQtg2qxQR56B"
      }
    },
    {
      "cell_type": "code",
      "source": [],
      "metadata": {
        "id": "3yQDaHK8K1dr"
      },
      "execution_count": 296,
      "outputs": []
    },
    {
      "cell_type": "markdown",
      "source": [
        "# Feature engineering and data cleaning"
      ],
      "metadata": {
        "id": "hQoUMyEWOyc1"
      }
    },
    {
      "cell_type": "markdown",
      "source": [
        "## Check for missing values"
      ],
      "metadata": {
        "id": "8jKFaQicRqsC"
      }
    },
    {
      "cell_type": "code",
      "source": [
        "df.isna().sum()"
      ],
      "metadata": {
        "colab": {
          "base_uri": "https://localhost:8080/"
        },
        "id": "muRxFoW6RyRE",
        "outputId": "185293f3-24c1-4586-b4c1-ddfe2af4a352"
      },
      "execution_count": 297,
      "outputs": [
        {
          "output_type": "execute_result",
          "data": {
            "text/plain": [
              "timestamp           0\n",
              "FQDN_count          0\n",
              "subdomain_length    0\n",
              "upper               0\n",
              "lower               0\n",
              "numeric             0\n",
              "entropy             0\n",
              "special             0\n",
              "labels              0\n",
              "labels_max          0\n",
              "labels_average      0\n",
              "longest_word        8\n",
              "sld                 0\n",
              "len                 0\n",
              "subdomain           0\n",
              "Target Attack       0\n",
              "dtype: int64"
            ]
          },
          "metadata": {},
          "execution_count": 297
        }
      ]
    },
    {
      "cell_type": "markdown",
      "source": [
        "There is 8 missing values in longest_word , this is a very small number so I will remove them."
      ],
      "metadata": {
        "id": "MynXrvtTWLoE"
      }
    },
    {
      "cell_type": "code",
      "source": [
        "df.dropna()"
      ],
      "metadata": {
        "colab": {
          "base_uri": "https://localhost:8080/",
          "height": 523
        },
        "id": "V9UX0dNpWVoD",
        "outputId": "a3b768a4-afb3-4bd4-be7d-b2247521c35c"
      },
      "execution_count": 298,
      "outputs": [
        {
          "output_type": "execute_result",
          "data": {
            "text/plain": [
              "       timestamp  FQDN_count  subdomain_length  upper  lower  numeric  \\\n",
              "0        56:19.8          27                10      0     10       11   \n",
              "1        07:23.9          27                10      0     10       11   \n",
              "2        23:15.1          26                 9      0     10       10   \n",
              "3        04:51.9          27                10      0     10       11   \n",
              "4        12:44.0          15                 9      0     11        0   \n",
              "...          ...         ...               ...    ...    ...      ...   \n",
              "268069   33:51.5          18                 3      0     16        0   \n",
              "268070   36:02.5          27                10      0     10       11   \n",
              "268071   37:21.5          27                10      0     10       11   \n",
              "268072   24:25.1          16                 0      0     14        0   \n",
              "268073   20:56.1          27                10      0     10       11   \n",
              "\n",
              "         entropy  special  labels  labels_max  labels_average longest_word  \\\n",
              "0       2.570417        6       6           7        3.666667            2   \n",
              "1       2.767195        6       6           7        3.666667            2   \n",
              "2       2.742338        6       6           7        3.500000            2   \n",
              "3       2.570417        6       6           7        3.666667            2   \n",
              "4       2.929439        4       3           5        4.333333        local   \n",
              "...          ...      ...     ...         ...             ...          ...   \n",
              "268069  2.338623        2       3          10        5.333333         alma   \n",
              "268070  2.767195        6       6           7        3.666667            2   \n",
              "268071  2.767195        6       6           7        3.666667            2   \n",
              "268072  3.249687        2       2          13        7.500000        radio   \n",
              "268073  2.570417        6       6           7        3.666667            2   \n",
              "\n",
              "                  sld  len  subdomain  Target Attack  \n",
              "0                 192   14          1              1  \n",
              "1                 192   14          1              1  \n",
              "2                 192   13          1              0  \n",
              "3                 192   14          1              1  \n",
              "4               local   15          1              1  \n",
              "...               ...  ...        ...            ...  \n",
              "268069     almaalomah   14          1              0  \n",
              "268070            192   14          1              0  \n",
              "268071            192   14          1              1  \n",
              "268072  radio-vintage   14          0              0  \n",
              "268073            192   14          1              1  \n",
              "\n",
              "[268066 rows x 16 columns]"
            ],
            "text/html": [
              "\n",
              "  <div id=\"df-c812d2c5-b867-4b8a-bda8-033da0fb484b\">\n",
              "    <div class=\"colab-df-container\">\n",
              "      <div>\n",
              "<style scoped>\n",
              "    .dataframe tbody tr th:only-of-type {\n",
              "        vertical-align: middle;\n",
              "    }\n",
              "\n",
              "    .dataframe tbody tr th {\n",
              "        vertical-align: top;\n",
              "    }\n",
              "\n",
              "    .dataframe thead th {\n",
              "        text-align: right;\n",
              "    }\n",
              "</style>\n",
              "<table border=\"1\" class=\"dataframe\">\n",
              "  <thead>\n",
              "    <tr style=\"text-align: right;\">\n",
              "      <th></th>\n",
              "      <th>timestamp</th>\n",
              "      <th>FQDN_count</th>\n",
              "      <th>subdomain_length</th>\n",
              "      <th>upper</th>\n",
              "      <th>lower</th>\n",
              "      <th>numeric</th>\n",
              "      <th>entropy</th>\n",
              "      <th>special</th>\n",
              "      <th>labels</th>\n",
              "      <th>labels_max</th>\n",
              "      <th>labels_average</th>\n",
              "      <th>longest_word</th>\n",
              "      <th>sld</th>\n",
              "      <th>len</th>\n",
              "      <th>subdomain</th>\n",
              "      <th>Target Attack</th>\n",
              "    </tr>\n",
              "  </thead>\n",
              "  <tbody>\n",
              "    <tr>\n",
              "      <th>0</th>\n",
              "      <td>56:19.8</td>\n",
              "      <td>27</td>\n",
              "      <td>10</td>\n",
              "      <td>0</td>\n",
              "      <td>10</td>\n",
              "      <td>11</td>\n",
              "      <td>2.570417</td>\n",
              "      <td>6</td>\n",
              "      <td>6</td>\n",
              "      <td>7</td>\n",
              "      <td>3.666667</td>\n",
              "      <td>2</td>\n",
              "      <td>192</td>\n",
              "      <td>14</td>\n",
              "      <td>1</td>\n",
              "      <td>1</td>\n",
              "    </tr>\n",
              "    <tr>\n",
              "      <th>1</th>\n",
              "      <td>07:23.9</td>\n",
              "      <td>27</td>\n",
              "      <td>10</td>\n",
              "      <td>0</td>\n",
              "      <td>10</td>\n",
              "      <td>11</td>\n",
              "      <td>2.767195</td>\n",
              "      <td>6</td>\n",
              "      <td>6</td>\n",
              "      <td>7</td>\n",
              "      <td>3.666667</td>\n",
              "      <td>2</td>\n",
              "      <td>192</td>\n",
              "      <td>14</td>\n",
              "      <td>1</td>\n",
              "      <td>1</td>\n",
              "    </tr>\n",
              "    <tr>\n",
              "      <th>2</th>\n",
              "      <td>23:15.1</td>\n",
              "      <td>26</td>\n",
              "      <td>9</td>\n",
              "      <td>0</td>\n",
              "      <td>10</td>\n",
              "      <td>10</td>\n",
              "      <td>2.742338</td>\n",
              "      <td>6</td>\n",
              "      <td>6</td>\n",
              "      <td>7</td>\n",
              "      <td>3.500000</td>\n",
              "      <td>2</td>\n",
              "      <td>192</td>\n",
              "      <td>13</td>\n",
              "      <td>1</td>\n",
              "      <td>0</td>\n",
              "    </tr>\n",
              "    <tr>\n",
              "      <th>3</th>\n",
              "      <td>04:51.9</td>\n",
              "      <td>27</td>\n",
              "      <td>10</td>\n",
              "      <td>0</td>\n",
              "      <td>10</td>\n",
              "      <td>11</td>\n",
              "      <td>2.570417</td>\n",
              "      <td>6</td>\n",
              "      <td>6</td>\n",
              "      <td>7</td>\n",
              "      <td>3.666667</td>\n",
              "      <td>2</td>\n",
              "      <td>192</td>\n",
              "      <td>14</td>\n",
              "      <td>1</td>\n",
              "      <td>1</td>\n",
              "    </tr>\n",
              "    <tr>\n",
              "      <th>4</th>\n",
              "      <td>12:44.0</td>\n",
              "      <td>15</td>\n",
              "      <td>9</td>\n",
              "      <td>0</td>\n",
              "      <td>11</td>\n",
              "      <td>0</td>\n",
              "      <td>2.929439</td>\n",
              "      <td>4</td>\n",
              "      <td>3</td>\n",
              "      <td>5</td>\n",
              "      <td>4.333333</td>\n",
              "      <td>local</td>\n",
              "      <td>local</td>\n",
              "      <td>15</td>\n",
              "      <td>1</td>\n",
              "      <td>1</td>\n",
              "    </tr>\n",
              "    <tr>\n",
              "      <th>...</th>\n",
              "      <td>...</td>\n",
              "      <td>...</td>\n",
              "      <td>...</td>\n",
              "      <td>...</td>\n",
              "      <td>...</td>\n",
              "      <td>...</td>\n",
              "      <td>...</td>\n",
              "      <td>...</td>\n",
              "      <td>...</td>\n",
              "      <td>...</td>\n",
              "      <td>...</td>\n",
              "      <td>...</td>\n",
              "      <td>...</td>\n",
              "      <td>...</td>\n",
              "      <td>...</td>\n",
              "      <td>...</td>\n",
              "    </tr>\n",
              "    <tr>\n",
              "      <th>268069</th>\n",
              "      <td>33:51.5</td>\n",
              "      <td>18</td>\n",
              "      <td>3</td>\n",
              "      <td>0</td>\n",
              "      <td>16</td>\n",
              "      <td>0</td>\n",
              "      <td>2.338623</td>\n",
              "      <td>2</td>\n",
              "      <td>3</td>\n",
              "      <td>10</td>\n",
              "      <td>5.333333</td>\n",
              "      <td>alma</td>\n",
              "      <td>almaalomah</td>\n",
              "      <td>14</td>\n",
              "      <td>1</td>\n",
              "      <td>0</td>\n",
              "    </tr>\n",
              "    <tr>\n",
              "      <th>268070</th>\n",
              "      <td>36:02.5</td>\n",
              "      <td>27</td>\n",
              "      <td>10</td>\n",
              "      <td>0</td>\n",
              "      <td>10</td>\n",
              "      <td>11</td>\n",
              "      <td>2.767195</td>\n",
              "      <td>6</td>\n",
              "      <td>6</td>\n",
              "      <td>7</td>\n",
              "      <td>3.666667</td>\n",
              "      <td>2</td>\n",
              "      <td>192</td>\n",
              "      <td>14</td>\n",
              "      <td>1</td>\n",
              "      <td>0</td>\n",
              "    </tr>\n",
              "    <tr>\n",
              "      <th>268071</th>\n",
              "      <td>37:21.5</td>\n",
              "      <td>27</td>\n",
              "      <td>10</td>\n",
              "      <td>0</td>\n",
              "      <td>10</td>\n",
              "      <td>11</td>\n",
              "      <td>2.767195</td>\n",
              "      <td>6</td>\n",
              "      <td>6</td>\n",
              "      <td>7</td>\n",
              "      <td>3.666667</td>\n",
              "      <td>2</td>\n",
              "      <td>192</td>\n",
              "      <td>14</td>\n",
              "      <td>1</td>\n",
              "      <td>1</td>\n",
              "    </tr>\n",
              "    <tr>\n",
              "      <th>268072</th>\n",
              "      <td>24:25.1</td>\n",
              "      <td>16</td>\n",
              "      <td>0</td>\n",
              "      <td>0</td>\n",
              "      <td>14</td>\n",
              "      <td>0</td>\n",
              "      <td>3.249687</td>\n",
              "      <td>2</td>\n",
              "      <td>2</td>\n",
              "      <td>13</td>\n",
              "      <td>7.500000</td>\n",
              "      <td>radio</td>\n",
              "      <td>radio-vintage</td>\n",
              "      <td>14</td>\n",
              "      <td>0</td>\n",
              "      <td>0</td>\n",
              "    </tr>\n",
              "    <tr>\n",
              "      <th>268073</th>\n",
              "      <td>20:56.1</td>\n",
              "      <td>27</td>\n",
              "      <td>10</td>\n",
              "      <td>0</td>\n",
              "      <td>10</td>\n",
              "      <td>11</td>\n",
              "      <td>2.570417</td>\n",
              "      <td>6</td>\n",
              "      <td>6</td>\n",
              "      <td>7</td>\n",
              "      <td>3.666667</td>\n",
              "      <td>2</td>\n",
              "      <td>192</td>\n",
              "      <td>14</td>\n",
              "      <td>1</td>\n",
              "      <td>1</td>\n",
              "    </tr>\n",
              "  </tbody>\n",
              "</table>\n",
              "<p>268066 rows × 16 columns</p>\n",
              "</div>\n",
              "      <button class=\"colab-df-convert\" onclick=\"convertToInteractive('df-c812d2c5-b867-4b8a-bda8-033da0fb484b')\"\n",
              "              title=\"Convert this dataframe to an interactive table.\"\n",
              "              style=\"display:none;\">\n",
              "        \n",
              "  <svg xmlns=\"http://www.w3.org/2000/svg\" height=\"24px\"viewBox=\"0 0 24 24\"\n",
              "       width=\"24px\">\n",
              "    <path d=\"M0 0h24v24H0V0z\" fill=\"none\"/>\n",
              "    <path d=\"M18.56 5.44l.94 2.06.94-2.06 2.06-.94-2.06-.94-.94-2.06-.94 2.06-2.06.94zm-11 1L8.5 8.5l.94-2.06 2.06-.94-2.06-.94L8.5 2.5l-.94 2.06-2.06.94zm10 10l.94 2.06.94-2.06 2.06-.94-2.06-.94-.94-2.06-.94 2.06-2.06.94z\"/><path d=\"M17.41 7.96l-1.37-1.37c-.4-.4-.92-.59-1.43-.59-.52 0-1.04.2-1.43.59L10.3 9.45l-7.72 7.72c-.78.78-.78 2.05 0 2.83L4 21.41c.39.39.9.59 1.41.59.51 0 1.02-.2 1.41-.59l7.78-7.78 2.81-2.81c.8-.78.8-2.07 0-2.86zM5.41 20L4 18.59l7.72-7.72 1.47 1.35L5.41 20z\"/>\n",
              "  </svg>\n",
              "      </button>\n",
              "      \n",
              "  <style>\n",
              "    .colab-df-container {\n",
              "      display:flex;\n",
              "      flex-wrap:wrap;\n",
              "      gap: 12px;\n",
              "    }\n",
              "\n",
              "    .colab-df-convert {\n",
              "      background-color: #E8F0FE;\n",
              "      border: none;\n",
              "      border-radius: 50%;\n",
              "      cursor: pointer;\n",
              "      display: none;\n",
              "      fill: #1967D2;\n",
              "      height: 32px;\n",
              "      padding: 0 0 0 0;\n",
              "      width: 32px;\n",
              "    }\n",
              "\n",
              "    .colab-df-convert:hover {\n",
              "      background-color: #E2EBFA;\n",
              "      box-shadow: 0px 1px 2px rgba(60, 64, 67, 0.3), 0px 1px 3px 1px rgba(60, 64, 67, 0.15);\n",
              "      fill: #174EA6;\n",
              "    }\n",
              "\n",
              "    [theme=dark] .colab-df-convert {\n",
              "      background-color: #3B4455;\n",
              "      fill: #D2E3FC;\n",
              "    }\n",
              "\n",
              "    [theme=dark] .colab-df-convert:hover {\n",
              "      background-color: #434B5C;\n",
              "      box-shadow: 0px 1px 3px 1px rgba(0, 0, 0, 0.15);\n",
              "      filter: drop-shadow(0px 1px 2px rgba(0, 0, 0, 0.3));\n",
              "      fill: #FFFFFF;\n",
              "    }\n",
              "  </style>\n",
              "\n",
              "      <script>\n",
              "        const buttonEl =\n",
              "          document.querySelector('#df-c812d2c5-b867-4b8a-bda8-033da0fb484b button.colab-df-convert');\n",
              "        buttonEl.style.display =\n",
              "          google.colab.kernel.accessAllowed ? 'block' : 'none';\n",
              "\n",
              "        async function convertToInteractive(key) {\n",
              "          const element = document.querySelector('#df-c812d2c5-b867-4b8a-bda8-033da0fb484b');\n",
              "          const dataTable =\n",
              "            await google.colab.kernel.invokeFunction('convertToInteractive',\n",
              "                                                     [key], {});\n",
              "          if (!dataTable) return;\n",
              "\n",
              "          const docLinkHtml = 'Like what you see? Visit the ' +\n",
              "            '<a target=\"_blank\" href=https://colab.research.google.com/notebooks/data_table.ipynb>data table notebook</a>'\n",
              "            + ' to learn more about interactive tables.';\n",
              "          element.innerHTML = '';\n",
              "          dataTable['output_type'] = 'display_data';\n",
              "          await google.colab.output.renderOutput(dataTable, element);\n",
              "          const docLink = document.createElement('div');\n",
              "          docLink.innerHTML = docLinkHtml;\n",
              "          element.appendChild(docLink);\n",
              "        }\n",
              "      </script>\n",
              "    </div>\n",
              "  </div>\n",
              "  "
            ]
          },
          "metadata": {},
          "execution_count": 298
        }
      ]
    },
    {
      "cell_type": "markdown",
      "source": [
        "## Check for missing values and categorical"
      ],
      "metadata": {
        "id": "G35zUX2nRuxZ"
      }
    },
    {
      "cell_type": "code",
      "source": [
        "df.dtypes"
      ],
      "metadata": {
        "colab": {
          "base_uri": "https://localhost:8080/"
        },
        "id": "ghRsu9R2OzqM",
        "outputId": "4d5e05e4-ca56-4fe0-855f-e4423978f3b9"
      },
      "execution_count": 299,
      "outputs": [
        {
          "output_type": "execute_result",
          "data": {
            "text/plain": [
              "timestamp            object\n",
              "FQDN_count            int64\n",
              "subdomain_length      int64\n",
              "upper                 int64\n",
              "lower                 int64\n",
              "numeric               int64\n",
              "entropy             float64\n",
              "special               int64\n",
              "labels                int64\n",
              "labels_max            int64\n",
              "labels_average      float64\n",
              "longest_word         object\n",
              "sld                  object\n",
              "len                   int64\n",
              "subdomain             int64\n",
              "Target Attack         int64\n",
              "dtype: object"
            ]
          },
          "metadata": {},
          "execution_count": 299
        }
      ]
    },
    {
      "cell_type": "code",
      "source": [
        "df['timestamp'].value_counts()"
      ],
      "metadata": {
        "colab": {
          "base_uri": "https://localhost:8080/"
        },
        "id": "dZN6X7E7lc2_",
        "outputId": "e2b702da-d938-4841-86ce-63f29b6530e3"
      },
      "execution_count": 300,
      "outputs": [
        {
          "output_type": "execute_result",
          "data": {
            "text/plain": [
              "49:26.7    46\n",
              "49:27.5    43\n",
              "49:27.1    42\n",
              "49:27.4    39\n",
              "49:26.9    35\n",
              "           ..\n",
              "07:14.4     1\n",
              "07:37.6     1\n",
              "42:38.8     1\n",
              "06:55.0     1\n",
              "00:40.7     1\n",
              "Name: timestamp, Length: 35924, dtype: int64"
            ]
          },
          "metadata": {},
          "execution_count": 300
        }
      ]
    },
    {
      "cell_type": "code",
      "source": [
        "df['longest_word'].value_counts()"
      ],
      "metadata": {
        "colab": {
          "base_uri": "https://localhost:8080/"
        },
        "id": "i1aSDIl6l2zg",
        "outputId": "cabecdf0-8a50-4f8c-a8e7-af7547d535c7"
      },
      "execution_count": 301,
      "outputs": [
        {
          "output_type": "execute_result",
          "data": {
            "text/plain": [
              "2          109981\n",
              "4           70188\n",
              "N            4498\n",
              "C            2969\n",
              "9            1906\n",
              "            ...  \n",
              "yaa             1\n",
              "queue           1\n",
              "kit             1\n",
              "airdrop         1\n",
              "mal             1\n",
              "Name: longest_word, Length: 6224, dtype: int64"
            ]
          },
          "metadata": {},
          "execution_count": 301
        }
      ]
    },
    {
      "cell_type": "code",
      "source": [
        "df['sld'].value_counts()"
      ],
      "metadata": {
        "colab": {
          "base_uri": "https://localhost:8080/"
        },
        "id": "gwUiHpLgl8z8",
        "outputId": "8ca5b609-879f-4869-f17f-07f4afa6d46a"
      },
      "execution_count": 302,
      "outputs": [
        {
          "output_type": "execute_result",
          "data": {
            "text/plain": [
              "192                                 109517\n",
              "224                                  70188\n",
              "FHEPFCELEHFCEPFFFACACACACACACABN      4498\n",
              "DESKTOP-3JF04TC                       1961\n",
              "239                                   1906\n",
              "                                     ...  \n",
              "freesgift                                1\n",
              "secureserver                             1\n",
              "airdropalert                             1\n",
              "queue-it                                 1\n",
              "lahemal                                  1\n",
              "Name: sld, Length: 11112, dtype: int64"
            ]
          },
          "metadata": {},
          "execution_count": 302
        }
      ]
    },
    {
      "cell_type": "markdown",
      "source": [
        "## Encoding Categorical Features"
      ],
      "metadata": {
        "id": "mpYefgqCzvUr"
      }
    },
    {
      "cell_type": "code",
      "source": [
        "from sklearn.preprocessing import LabelEncoder\n",
        "df['sld'] = df[['sld']].apply(LabelEncoder().fit_transform)\n",
        "df['longest_word'] = df[['longest_word']].apply(LabelEncoder().fit_transform)\n",
        "df['timestamp'] = df[['timestamp']].apply(LabelEncoder().fit_transform)"
      ],
      "metadata": {
        "id": "GsLeKrJlqPJL"
      },
      "execution_count": 303,
      "outputs": []
    },
    {
      "cell_type": "code",
      "source": [
        "df.dtypes"
      ],
      "metadata": {
        "colab": {
          "base_uri": "https://localhost:8080/"
        },
        "id": "n_nfvUxvkiUd",
        "outputId": "0492f9d6-320f-42d0-9326-219995842f3a"
      },
      "execution_count": 304,
      "outputs": [
        {
          "output_type": "execute_result",
          "data": {
            "text/plain": [
              "timestamp             int64\n",
              "FQDN_count            int64\n",
              "subdomain_length      int64\n",
              "upper                 int64\n",
              "lower                 int64\n",
              "numeric               int64\n",
              "entropy             float64\n",
              "special               int64\n",
              "labels                int64\n",
              "labels_max            int64\n",
              "labels_average      float64\n",
              "longest_word          int64\n",
              "sld                   int64\n",
              "len                   int64\n",
              "subdomain             int64\n",
              "Target Attack         int64\n",
              "dtype: object"
            ]
          },
          "metadata": {},
          "execution_count": 304
        }
      ]
    },
    {
      "cell_type": "markdown",
      "source": [
        "## Split Features and label"
      ],
      "metadata": {
        "id": "sOARFj5i0iKK"
      }
    },
    {
      "cell_type": "code",
      "source": [
        "X = df.drop(labels = \"Target Attack\", axis=1) \n",
        "X"
      ],
      "metadata": {
        "colab": {
          "base_uri": "https://localhost:8080/",
          "height": 488
        },
        "id": "JLVhLs5zqlb3",
        "outputId": "e45218f6-7437-4b31-c917-a1866cede846"
      },
      "execution_count": 305,
      "outputs": [
        {
          "output_type": "execute_result",
          "data": {
            "text/plain": [
              "        timestamp  FQDN_count  subdomain_length  upper  lower  numeric  \\\n",
              "0           33728          27                10      0     10       11   \n",
              "1            4433          27                10      0     10       11   \n",
              "2           13928          26                 9      0     10       10   \n",
              "3            2917          27                10      0     10       11   \n",
              "4            7622          15                 9      0     11        0   \n",
              "...           ...         ...               ...    ...    ...      ...   \n",
              "268069      20282          18                 3      0     16        0   \n",
              "268070      21591          27                10      0     10       11   \n",
              "268071      22381          27                10      0     10       11   \n",
              "268072      14628          16                 0      0     14        0   \n",
              "268073      12539          27                10      0     10       11   \n",
              "\n",
              "         entropy  special  labels  labels_max  labels_average  longest_word  \\\n",
              "0       2.570417        6       6           7        3.666667             2   \n",
              "1       2.767195        6       6           7        3.666667             2   \n",
              "2       2.742338        6       6           7        3.500000             2   \n",
              "3       2.570417        6       6           7        3.666667             2   \n",
              "4       2.929439        4       3           5        4.333333          3143   \n",
              "...          ...      ...     ...         ...             ...           ...   \n",
              "268069  2.338623        2       3          10        5.333333           169   \n",
              "268070  2.767195        6       6           7        3.666667             2   \n",
              "268071  2.767195        6       6           7        3.666667             2   \n",
              "268072  3.249687        2       2          13        7.500000          4463   \n",
              "268073  2.570417        6       6           7        3.666667             2   \n",
              "\n",
              "         sld  len  subdomain  \n",
              "0         35   14          1  \n",
              "1         35   14          1  \n",
              "2         35   13          1  \n",
              "3         35   14          1  \n",
              "4       5622   15          1  \n",
              "...      ...  ...        ...  \n",
              "268069   481   14          1  \n",
              "268070    35   14          1  \n",
              "268071    35   14          1  \n",
              "268072  7880   14          0  \n",
              "268073    35   14          1  \n",
              "\n",
              "[268074 rows x 15 columns]"
            ],
            "text/html": [
              "\n",
              "  <div id=\"df-17c4fb23-bcbd-4dee-af17-62d842ed1bc2\">\n",
              "    <div class=\"colab-df-container\">\n",
              "      <div>\n",
              "<style scoped>\n",
              "    .dataframe tbody tr th:only-of-type {\n",
              "        vertical-align: middle;\n",
              "    }\n",
              "\n",
              "    .dataframe tbody tr th {\n",
              "        vertical-align: top;\n",
              "    }\n",
              "\n",
              "    .dataframe thead th {\n",
              "        text-align: right;\n",
              "    }\n",
              "</style>\n",
              "<table border=\"1\" class=\"dataframe\">\n",
              "  <thead>\n",
              "    <tr style=\"text-align: right;\">\n",
              "      <th></th>\n",
              "      <th>timestamp</th>\n",
              "      <th>FQDN_count</th>\n",
              "      <th>subdomain_length</th>\n",
              "      <th>upper</th>\n",
              "      <th>lower</th>\n",
              "      <th>numeric</th>\n",
              "      <th>entropy</th>\n",
              "      <th>special</th>\n",
              "      <th>labels</th>\n",
              "      <th>labels_max</th>\n",
              "      <th>labels_average</th>\n",
              "      <th>longest_word</th>\n",
              "      <th>sld</th>\n",
              "      <th>len</th>\n",
              "      <th>subdomain</th>\n",
              "    </tr>\n",
              "  </thead>\n",
              "  <tbody>\n",
              "    <tr>\n",
              "      <th>0</th>\n",
              "      <td>33728</td>\n",
              "      <td>27</td>\n",
              "      <td>10</td>\n",
              "      <td>0</td>\n",
              "      <td>10</td>\n",
              "      <td>11</td>\n",
              "      <td>2.570417</td>\n",
              "      <td>6</td>\n",
              "      <td>6</td>\n",
              "      <td>7</td>\n",
              "      <td>3.666667</td>\n",
              "      <td>2</td>\n",
              "      <td>35</td>\n",
              "      <td>14</td>\n",
              "      <td>1</td>\n",
              "    </tr>\n",
              "    <tr>\n",
              "      <th>1</th>\n",
              "      <td>4433</td>\n",
              "      <td>27</td>\n",
              "      <td>10</td>\n",
              "      <td>0</td>\n",
              "      <td>10</td>\n",
              "      <td>11</td>\n",
              "      <td>2.767195</td>\n",
              "      <td>6</td>\n",
              "      <td>6</td>\n",
              "      <td>7</td>\n",
              "      <td>3.666667</td>\n",
              "      <td>2</td>\n",
              "      <td>35</td>\n",
              "      <td>14</td>\n",
              "      <td>1</td>\n",
              "    </tr>\n",
              "    <tr>\n",
              "      <th>2</th>\n",
              "      <td>13928</td>\n",
              "      <td>26</td>\n",
              "      <td>9</td>\n",
              "      <td>0</td>\n",
              "      <td>10</td>\n",
              "      <td>10</td>\n",
              "      <td>2.742338</td>\n",
              "      <td>6</td>\n",
              "      <td>6</td>\n",
              "      <td>7</td>\n",
              "      <td>3.500000</td>\n",
              "      <td>2</td>\n",
              "      <td>35</td>\n",
              "      <td>13</td>\n",
              "      <td>1</td>\n",
              "    </tr>\n",
              "    <tr>\n",
              "      <th>3</th>\n",
              "      <td>2917</td>\n",
              "      <td>27</td>\n",
              "      <td>10</td>\n",
              "      <td>0</td>\n",
              "      <td>10</td>\n",
              "      <td>11</td>\n",
              "      <td>2.570417</td>\n",
              "      <td>6</td>\n",
              "      <td>6</td>\n",
              "      <td>7</td>\n",
              "      <td>3.666667</td>\n",
              "      <td>2</td>\n",
              "      <td>35</td>\n",
              "      <td>14</td>\n",
              "      <td>1</td>\n",
              "    </tr>\n",
              "    <tr>\n",
              "      <th>4</th>\n",
              "      <td>7622</td>\n",
              "      <td>15</td>\n",
              "      <td>9</td>\n",
              "      <td>0</td>\n",
              "      <td>11</td>\n",
              "      <td>0</td>\n",
              "      <td>2.929439</td>\n",
              "      <td>4</td>\n",
              "      <td>3</td>\n",
              "      <td>5</td>\n",
              "      <td>4.333333</td>\n",
              "      <td>3143</td>\n",
              "      <td>5622</td>\n",
              "      <td>15</td>\n",
              "      <td>1</td>\n",
              "    </tr>\n",
              "    <tr>\n",
              "      <th>...</th>\n",
              "      <td>...</td>\n",
              "      <td>...</td>\n",
              "      <td>...</td>\n",
              "      <td>...</td>\n",
              "      <td>...</td>\n",
              "      <td>...</td>\n",
              "      <td>...</td>\n",
              "      <td>...</td>\n",
              "      <td>...</td>\n",
              "      <td>...</td>\n",
              "      <td>...</td>\n",
              "      <td>...</td>\n",
              "      <td>...</td>\n",
              "      <td>...</td>\n",
              "      <td>...</td>\n",
              "    </tr>\n",
              "    <tr>\n",
              "      <th>268069</th>\n",
              "      <td>20282</td>\n",
              "      <td>18</td>\n",
              "      <td>3</td>\n",
              "      <td>0</td>\n",
              "      <td>16</td>\n",
              "      <td>0</td>\n",
              "      <td>2.338623</td>\n",
              "      <td>2</td>\n",
              "      <td>3</td>\n",
              "      <td>10</td>\n",
              "      <td>5.333333</td>\n",
              "      <td>169</td>\n",
              "      <td>481</td>\n",
              "      <td>14</td>\n",
              "      <td>1</td>\n",
              "    </tr>\n",
              "    <tr>\n",
              "      <th>268070</th>\n",
              "      <td>21591</td>\n",
              "      <td>27</td>\n",
              "      <td>10</td>\n",
              "      <td>0</td>\n",
              "      <td>10</td>\n",
              "      <td>11</td>\n",
              "      <td>2.767195</td>\n",
              "      <td>6</td>\n",
              "      <td>6</td>\n",
              "      <td>7</td>\n",
              "      <td>3.666667</td>\n",
              "      <td>2</td>\n",
              "      <td>35</td>\n",
              "      <td>14</td>\n",
              "      <td>1</td>\n",
              "    </tr>\n",
              "    <tr>\n",
              "      <th>268071</th>\n",
              "      <td>22381</td>\n",
              "      <td>27</td>\n",
              "      <td>10</td>\n",
              "      <td>0</td>\n",
              "      <td>10</td>\n",
              "      <td>11</td>\n",
              "      <td>2.767195</td>\n",
              "      <td>6</td>\n",
              "      <td>6</td>\n",
              "      <td>7</td>\n",
              "      <td>3.666667</td>\n",
              "      <td>2</td>\n",
              "      <td>35</td>\n",
              "      <td>14</td>\n",
              "      <td>1</td>\n",
              "    </tr>\n",
              "    <tr>\n",
              "      <th>268072</th>\n",
              "      <td>14628</td>\n",
              "      <td>16</td>\n",
              "      <td>0</td>\n",
              "      <td>0</td>\n",
              "      <td>14</td>\n",
              "      <td>0</td>\n",
              "      <td>3.249687</td>\n",
              "      <td>2</td>\n",
              "      <td>2</td>\n",
              "      <td>13</td>\n",
              "      <td>7.500000</td>\n",
              "      <td>4463</td>\n",
              "      <td>7880</td>\n",
              "      <td>14</td>\n",
              "      <td>0</td>\n",
              "    </tr>\n",
              "    <tr>\n",
              "      <th>268073</th>\n",
              "      <td>12539</td>\n",
              "      <td>27</td>\n",
              "      <td>10</td>\n",
              "      <td>0</td>\n",
              "      <td>10</td>\n",
              "      <td>11</td>\n",
              "      <td>2.570417</td>\n",
              "      <td>6</td>\n",
              "      <td>6</td>\n",
              "      <td>7</td>\n",
              "      <td>3.666667</td>\n",
              "      <td>2</td>\n",
              "      <td>35</td>\n",
              "      <td>14</td>\n",
              "      <td>1</td>\n",
              "    </tr>\n",
              "  </tbody>\n",
              "</table>\n",
              "<p>268074 rows × 15 columns</p>\n",
              "</div>\n",
              "      <button class=\"colab-df-convert\" onclick=\"convertToInteractive('df-17c4fb23-bcbd-4dee-af17-62d842ed1bc2')\"\n",
              "              title=\"Convert this dataframe to an interactive table.\"\n",
              "              style=\"display:none;\">\n",
              "        \n",
              "  <svg xmlns=\"http://www.w3.org/2000/svg\" height=\"24px\"viewBox=\"0 0 24 24\"\n",
              "       width=\"24px\">\n",
              "    <path d=\"M0 0h24v24H0V0z\" fill=\"none\"/>\n",
              "    <path d=\"M18.56 5.44l.94 2.06.94-2.06 2.06-.94-2.06-.94-.94-2.06-.94 2.06-2.06.94zm-11 1L8.5 8.5l.94-2.06 2.06-.94-2.06-.94L8.5 2.5l-.94 2.06-2.06.94zm10 10l.94 2.06.94-2.06 2.06-.94-2.06-.94-.94-2.06-.94 2.06-2.06.94z\"/><path d=\"M17.41 7.96l-1.37-1.37c-.4-.4-.92-.59-1.43-.59-.52 0-1.04.2-1.43.59L10.3 9.45l-7.72 7.72c-.78.78-.78 2.05 0 2.83L4 21.41c.39.39.9.59 1.41.59.51 0 1.02-.2 1.41-.59l7.78-7.78 2.81-2.81c.8-.78.8-2.07 0-2.86zM5.41 20L4 18.59l7.72-7.72 1.47 1.35L5.41 20z\"/>\n",
              "  </svg>\n",
              "      </button>\n",
              "      \n",
              "  <style>\n",
              "    .colab-df-container {\n",
              "      display:flex;\n",
              "      flex-wrap:wrap;\n",
              "      gap: 12px;\n",
              "    }\n",
              "\n",
              "    .colab-df-convert {\n",
              "      background-color: #E8F0FE;\n",
              "      border: none;\n",
              "      border-radius: 50%;\n",
              "      cursor: pointer;\n",
              "      display: none;\n",
              "      fill: #1967D2;\n",
              "      height: 32px;\n",
              "      padding: 0 0 0 0;\n",
              "      width: 32px;\n",
              "    }\n",
              "\n",
              "    .colab-df-convert:hover {\n",
              "      background-color: #E2EBFA;\n",
              "      box-shadow: 0px 1px 2px rgba(60, 64, 67, 0.3), 0px 1px 3px 1px rgba(60, 64, 67, 0.15);\n",
              "      fill: #174EA6;\n",
              "    }\n",
              "\n",
              "    [theme=dark] .colab-df-convert {\n",
              "      background-color: #3B4455;\n",
              "      fill: #D2E3FC;\n",
              "    }\n",
              "\n",
              "    [theme=dark] .colab-df-convert:hover {\n",
              "      background-color: #434B5C;\n",
              "      box-shadow: 0px 1px 3px 1px rgba(0, 0, 0, 0.15);\n",
              "      filter: drop-shadow(0px 1px 2px rgba(0, 0, 0, 0.3));\n",
              "      fill: #FFFFFF;\n",
              "    }\n",
              "  </style>\n",
              "\n",
              "      <script>\n",
              "        const buttonEl =\n",
              "          document.querySelector('#df-17c4fb23-bcbd-4dee-af17-62d842ed1bc2 button.colab-df-convert');\n",
              "        buttonEl.style.display =\n",
              "          google.colab.kernel.accessAllowed ? 'block' : 'none';\n",
              "\n",
              "        async function convertToInteractive(key) {\n",
              "          const element = document.querySelector('#df-17c4fb23-bcbd-4dee-af17-62d842ed1bc2');\n",
              "          const dataTable =\n",
              "            await google.colab.kernel.invokeFunction('convertToInteractive',\n",
              "                                                     [key], {});\n",
              "          if (!dataTable) return;\n",
              "\n",
              "          const docLinkHtml = 'Like what you see? Visit the ' +\n",
              "            '<a target=\"_blank\" href=https://colab.research.google.com/notebooks/data_table.ipynb>data table notebook</a>'\n",
              "            + ' to learn more about interactive tables.';\n",
              "          element.innerHTML = '';\n",
              "          dataTable['output_type'] = 'display_data';\n",
              "          await google.colab.output.renderOutput(dataTable, element);\n",
              "          const docLink = document.createElement('div');\n",
              "          docLink.innerHTML = docLinkHtml;\n",
              "          element.appendChild(docLink);\n",
              "        }\n",
              "      </script>\n",
              "    </div>\n",
              "  </div>\n",
              "  "
            ]
          },
          "metadata": {},
          "execution_count": 305
        }
      ]
    },
    {
      "cell_type": "code",
      "source": [
        "X.dtypes"
      ],
      "metadata": {
        "colab": {
          "base_uri": "https://localhost:8080/"
        },
        "id": "WaqQ4it1uq5Z",
        "outputId": "38ec62b7-ea04-4a4b-dbbc-fa37d4021815"
      },
      "execution_count": 306,
      "outputs": [
        {
          "output_type": "execute_result",
          "data": {
            "text/plain": [
              "timestamp             int64\n",
              "FQDN_count            int64\n",
              "subdomain_length      int64\n",
              "upper                 int64\n",
              "lower                 int64\n",
              "numeric               int64\n",
              "entropy             float64\n",
              "special               int64\n",
              "labels                int64\n",
              "labels_max            int64\n",
              "labels_average      float64\n",
              "longest_word          int64\n",
              "sld                   int64\n",
              "len                   int64\n",
              "subdomain             int64\n",
              "dtype: object"
            ]
          },
          "metadata": {},
          "execution_count": 306
        }
      ]
    },
    {
      "cell_type": "code",
      "source": [
        "y = df[\"Target Attack\"]\n",
        "y"
      ],
      "metadata": {
        "colab": {
          "base_uri": "https://localhost:8080/"
        },
        "id": "E1ODruLxvD9L",
        "outputId": "07fa12e4-fefd-40d0-f50c-57f092db2114"
      },
      "execution_count": 307,
      "outputs": [
        {
          "output_type": "execute_result",
          "data": {
            "text/plain": [
              "0         1\n",
              "1         1\n",
              "2         0\n",
              "3         1\n",
              "4         1\n",
              "         ..\n",
              "268069    0\n",
              "268070    0\n",
              "268071    1\n",
              "268072    0\n",
              "268073    1\n",
              "Name: Target Attack, Length: 268074, dtype: int64"
            ]
          },
          "metadata": {},
          "execution_count": 307
        }
      ]
    },
    {
      "cell_type": "markdown",
      "source": [
        "## Split the dataset into Train and Test dataset"
      ],
      "metadata": {
        "id": "F1dw5Nvg0ogH"
      }
    },
    {
      "cell_type": "code",
      "source": [
        "from sklearn.model_selection import train_test_split\n",
        "\n",
        "x_train, x_test, y_train, y_test = train_test_split(X,y, test_size=0.25, random_state=42,stratify=y)"
      ],
      "metadata": {
        "id": "Tjho04abyoO-"
      },
      "execution_count": 308,
      "outputs": []
    },
    {
      "cell_type": "markdown",
      "source": [
        "# Feature Filtering/Selection:"
      ],
      "metadata": {
        "id": "3E3w88Q1v_DF"
      }
    },
    {
      "cell_type": "markdown",
      "source": [
        "Filter criteria for selecting the best feature\n",
        "\n",
        "Select independent features with\n",
        "\n",
        "* High correlation with the target variable,\n",
        "* Higher information gain or mutual information of the independent variable,\n",
        "* Anova f-test."
      ],
      "metadata": {
        "id": "yJYp3l7Zcw36"
      }
    },
    {
      "cell_type": "markdown",
      "source": [
        "## Finding correlation with target variable of independent predictors:"
      ],
      "metadata": {
        "id": "QmYmHwFEzTVw"
      }
    },
    {
      "cell_type": "code",
      "source": [
        "#Create a data set copy with all the input features including target variable\n",
        "full_data= X.copy()\n",
        "full_data[\"label\"]= y\n",
        "print(full_data.head(2))\n"
      ],
      "metadata": {
        "colab": {
          "base_uri": "https://localhost:8080/"
        },
        "id": "NTYLM3fdy8SO",
        "outputId": "58028e6e-75e4-49c1-dab4-d6925ecae474"
      },
      "execution_count": 309,
      "outputs": [
        {
          "output_type": "stream",
          "name": "stdout",
          "text": [
            "   timestamp  FQDN_count  subdomain_length  upper  lower  numeric   entropy  \\\n",
            "0      33728          27                10      0     10       11  2.570417   \n",
            "1       4433          27                10      0     10       11  2.767195   \n",
            "\n",
            "   special  labels  labels_max  labels_average  longest_word  sld  len  \\\n",
            "0        6       6           7        3.666667             2   35   14   \n",
            "1        6       6           7        3.666667             2   35   14   \n",
            "\n",
            "   subdomain  label  \n",
            "0          1      1  \n",
            "1          1      1  \n"
          ]
        }
      ]
    },
    {
      "cell_type": "code",
      "source": [
        "full_data.columns.values"
      ],
      "metadata": {
        "colab": {
          "base_uri": "https://localhost:8080/"
        },
        "id": "ofUKNAIeIF2m",
        "outputId": "a8b43adc-7327-4fbd-d0dc-d74c546a57de"
      },
      "execution_count": 310,
      "outputs": [
        {
          "output_type": "execute_result",
          "data": {
            "text/plain": [
              "array(['timestamp', 'FQDN_count', 'subdomain_length', 'upper', 'lower',\n",
              "       'numeric', 'entropy', 'special', 'labels', 'labels_max',\n",
              "       'labels_average', 'longest_word', 'sld', 'len', 'subdomain',\n",
              "       'label'], dtype=object)"
            ]
          },
          "metadata": {},
          "execution_count": 310
        }
      ]
    },
    {
      "cell_type": "code",
      "source": [
        "#the correlation of each of the input feature with the target variable\n",
        "imp = full_data.drop(\"label\", axis=1).apply(lambda x: x.corr(full_data.label))\n",
        "print(imp)"
      ],
      "metadata": {
        "colab": {
          "base_uri": "https://localhost:8080/"
        },
        "id": "CVhPHSbgHZXT",
        "outputId": "6876b9b8-a333-4a35-c759-74182e85bff7"
      },
      "execution_count": 311,
      "outputs": [
        {
          "output_type": "stream",
          "name": "stdout",
          "text": [
            "timestamp           0.008345\n",
            "FQDN_count          0.563563\n",
            "subdomain_length    0.572053\n",
            "upper               0.072895\n",
            "lower              -0.295599\n",
            "numeric             0.599252\n",
            "entropy            -0.119050\n",
            "special             0.582107\n",
            "labels              0.569414\n",
            "labels_max         -0.096350\n",
            "labels_average     -0.077167\n",
            "longest_word       -0.555636\n",
            "sld                -0.553529\n",
            "len                 0.159437\n",
            "subdomain           0.502469\n",
            "dtype: float64\n"
          ]
        }
      ]
    },
    {
      "cell_type": "code",
      "source": [
        "indices = np.argsort(imp)\n",
        "print(indices)\n"
      ],
      "metadata": {
        "colab": {
          "base_uri": "https://localhost:8080/"
        },
        "id": "FdoxMouTHaih",
        "outputId": "57f351cf-2680-417b-bb8a-79765037fb05"
      },
      "execution_count": 312,
      "outputs": [
        {
          "output_type": "stream",
          "name": "stdout",
          "text": [
            "timestamp           11\n",
            "FQDN_count          12\n",
            "subdomain_length     4\n",
            "upper                6\n",
            "lower                9\n",
            "numeric             10\n",
            "entropy              0\n",
            "special              3\n",
            "labels              13\n",
            "labels_max          14\n",
            "labels_average       1\n",
            "longest_word         8\n",
            "sld                  2\n",
            "len                  7\n",
            "subdomain            5\n",
            "dtype: int64\n"
          ]
        }
      ]
    },
    {
      "cell_type": "code",
      "source": [
        "print(imp[indices])     #Sorted in ascending order"
      ],
      "metadata": {
        "colab": {
          "base_uri": "https://localhost:8080/"
        },
        "id": "fjoIwbeJHh0R",
        "outputId": "1f26e939-5e2f-4a42-ad2b-13c5cf8b1c06"
      },
      "execution_count": 313,
      "outputs": [
        {
          "output_type": "stream",
          "name": "stdout",
          "text": [
            "longest_word       -0.555636\n",
            "sld                -0.553529\n",
            "lower              -0.295599\n",
            "entropy            -0.119050\n",
            "labels_max         -0.096350\n",
            "labels_average     -0.077167\n",
            "timestamp           0.008345\n",
            "upper               0.072895\n",
            "len                 0.159437\n",
            "subdomain           0.502469\n",
            "FQDN_count          0.563563\n",
            "labels              0.569414\n",
            "subdomain_length    0.572053\n",
            "special             0.582107\n",
            "numeric             0.599252\n",
            "dtype: float64\n"
          ]
        }
      ]
    },
    {
      "cell_type": "code",
      "source": [
        "import matplotlib.pyplot as plt\n",
        "\n",
        "names=full_data.columns.values\n",
        "\n",
        "\n",
        "#Plotting horizontal bar graph\n",
        "plt.barh(range(len(indices)), imp[indices], color='g', align='center')\n",
        "plt.yticks(range(len(indices)), [names[i] for i in indices])\n",
        "plt.xlabel('Relative Importance')\n",
        "plt.title('Feture correlation with target')\n",
        "plt.show()"
      ],
      "metadata": {
        "colab": {
          "base_uri": "https://localhost:8080/",
          "height": 295
        },
        "id": "kFrp0sAqHtlm",
        "outputId": "367a779c-a68e-485e-c907-bcc9ecd7f6ce"
      },
      "execution_count": 314,
      "outputs": [
        {
          "output_type": "display_data",
          "data": {
            "text/plain": [
              "<Figure size 432x288 with 1 Axes>"
            ],
            "image/png": "[encoded data removed]"
          },
          "metadata": {
            "needs_background": "light"
          }
        }
      ]
    },
    {
      "cell_type": "code",
      "source": [
        "#I keep features only if the correlation of the feature with the target variable is greater than 0.2\n",
        "for i in range(0, len(indices)):\n",
        "    if np.abs(imp[i])>0.2:\n",
        "        print(names[i])"
      ],
      "metadata": {
        "colab": {
          "base_uri": "https://localhost:8080/"
        },
        "id": "1nOc5exmHy9q",
        "outputId": "8f0bae11-4706-4146-ac61-30278849fee6"
      },
      "execution_count": 315,
      "outputs": [
        {
          "output_type": "stream",
          "name": "stdout",
          "text": [
            "FQDN_count\n",
            "subdomain_length\n",
            "lower\n",
            "numeric\n",
            "special\n",
            "labels\n",
            "longest_word\n",
            "sld\n",
            "subdomain\n"
          ]
        }
      ]
    },
    {
      "cell_type": "markdown",
      "source": [
        "## Mutual Information or Information Gain"
      ],
      "metadata": {
        "id": "6i8tHFpg-xTK"
      }
    },
    {
      "cell_type": "code",
      "source": [
        "from sklearn.feature_selection import mutual_info_classif\n",
        "mi = mutual_info_classif(X, y);"
      ],
      "metadata": {
        "id": "sHfso6GB-yr8"
      },
      "execution_count": 316,
      "outputs": []
    },
    {
      "cell_type": "code",
      "source": [
        "# Plotting the mutual information\n",
        "\n",
        "mi = pd.Series(mi)\n",
        "mi.index = X.columns\n",
        "mi.sort_values(ascending=False)\n",
        "mi.sort_values(ascending=False).plot.bar(figsize=(10, 4),color='g')\n",
        "plt.title(\"Mutual Information\")"
      ],
      "metadata": {
        "colab": {
          "base_uri": "https://localhost:8080/",
          "height": 382
        },
        "id": "wPBjeHaWrCEU",
        "outputId": "851aed92-cfdf-4e3c-f920-cc9fb0c34ef8"
      },
      "execution_count": 317,
      "outputs": [
        {
          "output_type": "execute_result",
          "data": {
            "text/plain": [
              "Text(0.5, 1.0, 'Mutual Information')"
            ]
          },
          "metadata": {},
          "execution_count": 317
        },
        {
          "output_type": "display_data",
          "data": {
            "text/plain": [
              "<Figure size 720x288 with 1 Axes>"
            ],
            "image/png": "[encoded data removed]"
          },
          "metadata": {
            "needs_background": "light"
          }
        }
      ]
    },
    {
      "cell_type": "code",
      "source": [],
      "metadata": {
        "id": "VCaTB1MsrPAX"
      },
      "execution_count": 317,
      "outputs": []
    },
    {
      "cell_type": "markdown",
      "source": [
        "## ANOVA f-test Feature Selection"
      ],
      "metadata": {
        "id": "KfaDSY8Et0rT"
      }
    },
    {
      "cell_type": "code",
      "source": [
        "from sklearn.feature_selection import SelectKBest\n",
        "from sklearn.feature_selection import f_classif\n",
        "\n",
        "# configure to select all features\n",
        "fs = SelectKBest(score_func=f_classif, k='all')\n",
        "# learn relationship from training data\n",
        "fs.fit(x_train, y_train)\n",
        "# transform train input data\n",
        "X_train_fs = fs.transform(x_train)\n",
        "# transform test input data\n",
        "X_test_fs = fs.transform(x_test)"
      ],
      "metadata": {
        "id": "mPMPgGoBerqV"
      },
      "execution_count": 318,
      "outputs": []
    },
    {
      "cell_type": "code",
      "source": [
        "x_train.columns.values"
      ],
      "metadata": {
        "colab": {
          "base_uri": "https://localhost:8080/"
        },
        "id": "2EGYT8I1p7BT",
        "outputId": "0734841b-d2bf-403a-c2fe-b064043e5e23"
      },
      "execution_count": 319,
      "outputs": [
        {
          "output_type": "execute_result",
          "data": {
            "text/plain": [
              "array(['timestamp', 'FQDN_count', 'subdomain_length', 'upper', 'lower',\n",
              "       'numeric', 'entropy', 'special', 'labels', 'labels_max',\n",
              "       'labels_average', 'longest_word', 'sld', 'len', 'subdomain'],\n",
              "      dtype=object)"
            ]
          },
          "metadata": {},
          "execution_count": 319
        }
      ]
    },
    {
      "cell_type": "code",
      "source": [
        "# what are scores for the features\n",
        "for i,name in zip(range(len(fs.scores_)), x_train.columns.values):\n",
        "\tprint('Feature %d %s: %f' % (i, name,fs.scores_[i]))"
      ],
      "metadata": {
        "colab": {
          "base_uri": "https://localhost:8080/"
        },
        "id": "T0CDsOxHo1np",
        "outputId": "fd772c88-5524-4a72-a975-4fd69bc987de"
      },
      "execution_count": 320,
      "outputs": [
        {
          "output_type": "stream",
          "name": "stdout",
          "text": [
            "Feature 0 timestamp: 15.603524\n",
            "Feature 1 FQDN_count: 93523.374866\n",
            "Feature 2 subdomain_length: 97840.791670\n",
            "Feature 3 upper: 1045.998894\n",
            "Feature 4 lower: 19071.106394\n",
            "Feature 5 numeric: 112725.099441\n",
            "Feature 6 entropy: 2878.764926\n",
            "Feature 7 special: 103111.662769\n",
            "Feature 8 labels: 96468.277526\n",
            "Feature 9 labels_max: 1870.532610\n",
            "Feature 10 labels_average: 1208.952003\n",
            "Feature 11 longest_word: 89612.920675\n",
            "Feature 12 sld: 88890.140106\n",
            "Feature 13 len: 5220.838293\n",
            "Feature 14 subdomain: 67932.896522\n"
          ]
        }
      ]
    },
    {
      "cell_type": "code",
      "source": [
        "# plot the scores\n",
        "plt.bar([i for i in  x_train.columns.values], fs.scores_,color='g')\n",
        "plt.title('Anova F-test')\n",
        "plt.xticks(rotation = 90) \n",
        "\n",
        "plt.show()"
      ],
      "metadata": {
        "colab": {
          "base_uri": "https://localhost:8080/",
          "height": 364
        },
        "id": "dgSBQqvipOp_",
        "outputId": "e755a2df-2e1c-493a-a850-9154510b0449"
      },
      "execution_count": 321,
      "outputs": [
        {
          "output_type": "display_data",
          "data": {
            "text/plain": [
              "<Figure size 432x288 with 1 Axes>"
            ],
            "image/png": "[encoded data removed]"
          },
          "metadata": {
            "needs_background": "light"
          }
        }
      ]
    },
    {
      "cell_type": "markdown",
      "source": [
        "## Last Feature Selected"
      ],
      "metadata": {
        "id": "b-hsSZnasMQK"
      }
    },
    {
      "cell_type": "code",
      "source": [
        "X_selection = X.drop(labels = [\"entropy\", \"labels_max\", \"labels_average\", 'upper', 'labels_average','len',\"timestamp\"], axis=1) "
      ],
      "metadata": {
        "id": "s2mSS3ZspgzX"
      },
      "execution_count": 322,
      "outputs": []
    },
    {
      "cell_type": "markdown",
      "source": [
        "## The selected features"
      ],
      "metadata": {
        "id": "ixSo7nGY81Yi"
      }
    },
    {
      "cell_type": "code",
      "source": [
        "X_selection.columns"
      ],
      "metadata": {
        "colab": {
          "base_uri": "https://localhost:8080/"
        },
        "id": "a1IHZOcC8xRQ",
        "outputId": "aa39715f-5fd1-4913-963f-79be6fa9ec9e"
      },
      "execution_count": 323,
      "outputs": [
        {
          "output_type": "execute_result",
          "data": {
            "text/plain": [
              "Index(['FQDN_count', 'subdomain_length', 'lower', 'numeric', 'special',\n",
              "       'labels', 'longest_word', 'sld', 'subdomain'],\n",
              "      dtype='object')"
            ]
          },
          "metadata": {},
          "execution_count": 323
        }
      ]
    },
    {
      "cell_type": "markdown",
      "source": [
        "# Model Training:"
      ],
      "metadata": {
        "id": "5pqT13FruHTc"
      }
    },
    {
      "cell_type": "markdown",
      "source": [
        "## Split data after feature selection "
      ],
      "metadata": {
        "id": "lLqBIb2lznOt"
      }
    },
    {
      "cell_type": "code",
      "source": [
        "x_train_s, x_test_s, y_train_s, y_test_s = train_test_split(X_selection,y, test_size=0.25, random_state=42,stratify=y)"
      ],
      "metadata": {
        "id": "JBYPkAnmuJ8q"
      },
      "execution_count": 324,
      "outputs": []
    },
    {
      "cell_type": "markdown",
      "source": [
        "## Normalization with Sklearn"
      ],
      "metadata": {
        "id": "y3Y030hq5cVs"
      }
    },
    {
      "cell_type": "code",
      "source": [
        "from sklearn.preprocessing import Normalizer\n",
        "scaler = Normalizer()\n",
        "X_train_scaled = scaler.fit_transform(x_train_s)\n",
        "X_test_scaled = scaler.transform(x_test_s) "
      ],
      "metadata": {
        "id": "ZGHLes1U2RZ8"
      },
      "execution_count": 325,
      "outputs": []
    },
    {
      "cell_type": "markdown",
      "source": [
        "## Logistic Regression without normalization"
      ],
      "metadata": {
        "id": "0b7pG_flIxqA"
      }
    },
    {
      "cell_type": "code",
      "source": [
        "from sklearn.linear_model import LogisticRegression"
      ],
      "metadata": {
        "id": "f1GVZqvgu0mZ"
      },
      "execution_count": 326,
      "outputs": []
    },
    {
      "cell_type": "code",
      "source": [
        "# all parameters not specified are set to their defaults\n",
        "logisticRegr = LogisticRegression(max_iter=1500,  random_state=42)"
      ],
      "metadata": {
        "id": "ZHY9ZFjL1P0e"
      },
      "execution_count": 327,
      "outputs": []
    },
    {
      "cell_type": "code",
      "source": [
        "logisticRegr.fit(x_train_s, y_train_s)"
      ],
      "metadata": {
        "colab": {
          "base_uri": "https://localhost:8080/"
        },
        "id": "9qsDkdcf1R_O",
        "outputId": "826a573a-0e36-4556-ae0a-4e82cdbba9f5"
      },
      "execution_count": 328,
      "outputs": [
        {
          "output_type": "execute_result",
          "data": {
            "text/plain": [
              "LogisticRegression(max_iter=1500, random_state=42)"
            ]
          },
          "metadata": {},
          "execution_count": 328
        }
      ]
    },
    {
      "cell_type": "code",
      "source": [
        "# Use score method to get accuracy of model\n",
        "score = logisticRegr.score(x_test_s, y_test_s)\n",
        "print(score)"
      ],
      "metadata": {
        "colab": {
          "base_uri": "https://localhost:8080/"
        },
        "id": "li7Anqy41UqU",
        "outputId": "f48dd9b7-05e9-4cdd-ae08-33cb77619ffa"
      },
      "execution_count": 329,
      "outputs": [
        {
          "output_type": "stream",
          "name": "stdout",
          "text": [
            "0.8244975305510378\n"
          ]
        }
      ]
    },
    {
      "cell_type": "code",
      "source": [
        "from sklearn import metrics\n",
        "y_pred = logisticRegr.predict(x_test_s)\n"
      ],
      "metadata": {
        "id": "WXXwHdSy1bM1"
      },
      "execution_count": 330,
      "outputs": []
    },
    {
      "cell_type": "code",
      "source": [
        "y_log_proba =  logisticRegr.predict_proba(X_test_scaled) "
      ],
      "metadata": {
        "id": "RHNHwuNlGYqH"
      },
      "execution_count": 354,
      "outputs": []
    },
    {
      "cell_type": "code",
      "source": [
        "print(metrics.classification_report(y_test_s,y_pred))"
      ],
      "metadata": {
        "colab": {
          "base_uri": "https://localhost:8080/"
        },
        "id": "aQOsk1iY2JLC",
        "outputId": "465cfc18-6a4a-4462-9ca0-05960bd92ca7"
      },
      "execution_count": 331,
      "outputs": [
        {
          "output_type": "stream",
          "name": "stdout",
          "text": [
            "              precision    recall  f1-score   support\n",
            "\n",
            "           0       0.99      0.62      0.76     30224\n",
            "           1       0.76      1.00      0.86     36795\n",
            "\n",
            "    accuracy                           0.82     67019\n",
            "   macro avg       0.88      0.81      0.81     67019\n",
            "weighted avg       0.86      0.82      0.82     67019\n",
            "\n"
          ]
        }
      ]
    },
    {
      "cell_type": "markdown",
      "source": [
        "This is the winner model"
      ],
      "metadata": {
        "id": "toGmPKIDuqrX"
      }
    },
    {
      "cell_type": "markdown",
      "source": [
        "## Logistic Regression with normalization"
      ],
      "metadata": {
        "id": "CFh0H6CHI6XR"
      }
    },
    {
      "cell_type": "code",
      "source": [
        "logisticRegr2 = LogisticRegression(max_iter=1500,  random_state=42)\n",
        "logisticRegr2.fit(X_train_scaled, y_train_s)"
      ],
      "metadata": {
        "colab": {
          "base_uri": "https://localhost:8080/"
        },
        "id": "GoKq7Eg05VX3",
        "outputId": "f528bce5-009a-463b-9c1b-9bca10eb32ec"
      },
      "execution_count": 332,
      "outputs": [
        {
          "output_type": "execute_result",
          "data": {
            "text/plain": [
              "LogisticRegression(max_iter=1500, random_state=42)"
            ]
          },
          "metadata": {},
          "execution_count": 332
        }
      ]
    },
    {
      "cell_type": "code",
      "source": [
        "# Use score method to get accuracy of model\n",
        "score2 = logisticRegr2.score(X_test_scaled, y_test_s)\n",
        "print(score2)"
      ],
      "metadata": {
        "colab": {
          "base_uri": "https://localhost:8080/"
        },
        "id": "dyKQhkp5H1Vb",
        "outputId": "394d4b61-d34b-40e9-835f-8e6e8dfe2e1a"
      },
      "execution_count": 333,
      "outputs": [
        {
          "output_type": "stream",
          "name": "stdout",
          "text": [
            "0.8156045300586401\n"
          ]
        }
      ]
    },
    {
      "cell_type": "code",
      "source": [
        "y_pred2 = logisticRegr2.predict(X_test_scaled)"
      ],
      "metadata": {
        "id": "4XW_EWEuIAJm"
      },
      "execution_count": 334,
      "outputs": []
    },
    {
      "cell_type": "code",
      "source": [],
      "metadata": {
        "id": "sZCEdfUVMsXf"
      },
      "execution_count": 335,
      "outputs": []
    },
    {
      "cell_type": "code",
      "source": [
        "print(metrics.classification_report(y_test_s,y_pred2))"
      ],
      "metadata": {
        "colab": {
          "base_uri": "https://localhost:8080/"
        },
        "id": "2jWMVzYPIF1m",
        "outputId": "608d395c-3493-44a7-b39d-be1c917429a2"
      },
      "execution_count": 336,
      "outputs": [
        {
          "output_type": "stream",
          "name": "stdout",
          "text": [
            "              precision    recall  f1-score   support\n",
            "\n",
            "           0       0.95      0.63      0.75     30224\n",
            "           1       0.76      0.97      0.85     36795\n",
            "\n",
            "    accuracy                           0.82     67019\n",
            "   macro avg       0.85      0.80      0.80     67019\n",
            "weighted avg       0.84      0.82      0.81     67019\n",
            "\n"
          ]
        }
      ]
    },
    {
      "cell_type": "markdown",
      "source": [
        "## Naive Baise without Normalization"
      ],
      "metadata": {
        "id": "PVpf2xLnJqQB"
      }
    },
    {
      "cell_type": "code",
      "source": [
        "from sklearn.naive_bayes import GaussianNB\n",
        "gnb = GaussianNB()\n",
        "\n",
        "gnb.fit(x_train_s, y_train_s)"
      ],
      "metadata": {
        "colab": {
          "base_uri": "https://localhost:8080/"
        },
        "outputId": "d0b2282e-59d0-4f8d-a77f-3abef3b5d926",
        "id": "tK4vODo20Cyk"
      },
      "execution_count": 337,
      "outputs": [
        {
          "output_type": "execute_result",
          "data": {
            "text/plain": [
              "GaussianNB()"
            ]
          },
          "metadata": {},
          "execution_count": 337
        }
      ]
    },
    {
      "cell_type": "code",
      "source": [
        "# Use score method to get accuracy of model\n",
        "scoreGnb1 = gnb.score(x_test_s, y_test_s)\n",
        "print(scoreGnb1)"
      ],
      "metadata": {
        "colab": {
          "base_uri": "https://localhost:8080/"
        },
        "outputId": "37e89df7-6ab1-4c4a-9b9d-705bf12d32f7",
        "id": "hoECPEnB0Cym"
      },
      "execution_count": 338,
      "outputs": [
        {
          "output_type": "stream",
          "name": "stdout",
          "text": [
            "0.8030260075500978\n"
          ]
        }
      ]
    },
    {
      "cell_type": "code",
      "source": [
        "y_pred21 = gnb.predict(x_test_s)\n"
      ],
      "metadata": {
        "id": "QbMee1s8Srrx"
      },
      "execution_count": 339,
      "outputs": []
    },
    {
      "cell_type": "code",
      "source": [
        "print(metrics.classification_report(y_test_s,y_pred21))"
      ],
      "metadata": {
        "colab": {
          "base_uri": "https://localhost:8080/"
        },
        "id": "yhXYVpg3SRgS",
        "outputId": "3027adf0-d44a-4bdc-f77e-f954279b6cbd"
      },
      "execution_count": 340,
      "outputs": [
        {
          "output_type": "stream",
          "name": "stdout",
          "text": [
            "              precision    recall  f1-score   support\n",
            "\n",
            "           0       0.90      0.64      0.74     30224\n",
            "           1       0.76      0.94      0.84     36795\n",
            "\n",
            "    accuracy                           0.80     67019\n",
            "   macro avg       0.83      0.79      0.79     67019\n",
            "weighted avg       0.82      0.80      0.80     67019\n",
            "\n"
          ]
        }
      ]
    },
    {
      "cell_type": "markdown",
      "source": [
        "## Naive Baise  with Normalization"
      ],
      "metadata": {
        "id": "rSdCOpMsjjPb"
      }
    },
    {
      "cell_type": "code",
      "source": [
        "gnb2 = GaussianNB()\n",
        "\n",
        "gnb2.fit(X_train_scaled, y_train_s)"
      ],
      "metadata": {
        "colab": {
          "base_uri": "https://localhost:8080/"
        },
        "id": "1eOMEQA1jkQv",
        "outputId": "2c4b129f-10eb-4808-fbd1-97d4b84da2f9"
      },
      "execution_count": 341,
      "outputs": [
        {
          "output_type": "execute_result",
          "data": {
            "text/plain": [
              "GaussianNB()"
            ]
          },
          "metadata": {},
          "execution_count": 341
        }
      ]
    },
    {
      "cell_type": "code",
      "source": [
        "# Use score method to get accuracy of model\n",
        "scoreGnb2 = gnb2.score(X_test_scaled, y_test_s)\n",
        "print(scoreGnb2)"
      ],
      "metadata": {
        "colab": {
          "base_uri": "https://localhost:8080/"
        },
        "id": "rRTcQCBA2gI7",
        "outputId": "0a4aa232-35b5-47b2-f57a-6d2ceb0bb87b"
      },
      "execution_count": 342,
      "outputs": [
        {
          "output_type": "stream",
          "name": "stdout",
          "text": [
            "0.8029812441248004\n"
          ]
        }
      ]
    },
    {
      "cell_type": "code",
      "source": [
        "y_pred22 = gnb2.predict(X_test_scaled)\n"
      ],
      "metadata": {
        "id": "hmJC9yJD2ldx"
      },
      "execution_count": 343,
      "outputs": []
    },
    {
      "cell_type": "code",
      "source": [
        "print(metrics.classification_report(y_test_s,y_pred22))"
      ],
      "metadata": {
        "colab": {
          "base_uri": "https://localhost:8080/"
        },
        "id": "3MKK7-MLTKG_",
        "outputId": "b89a09b7-62f8-4c29-fec6-14049dbe3461"
      },
      "execution_count": 344,
      "outputs": [
        {
          "output_type": "stream",
          "name": "stdout",
          "text": [
            "              precision    recall  f1-score   support\n",
            "\n",
            "           0       0.90      0.64      0.74     30224\n",
            "           1       0.76      0.94      0.84     36795\n",
            "\n",
            "    accuracy                           0.80     67019\n",
            "   macro avg       0.83      0.79      0.79     67019\n",
            "weighted avg       0.82      0.80      0.80     67019\n",
            "\n"
          ]
        }
      ]
    },
    {
      "cell_type": "markdown",
      "source": [
        "## Evaluation"
      ],
      "metadata": {
        "id": "putZrB5mQ89W"
      }
    },
    {
      "cell_type": "code",
      "source": [],
      "metadata": {
        "id": "-xpeofrHouHA"
      },
      "execution_count": 344,
      "outputs": []
    },
    {
      "cell_type": "markdown",
      "source": [
        "## Receiver Operating Characteristic (ROC) Curve"
      ],
      "metadata": {
        "id": "8Tsq9chyQ30v"
      }
    },
    {
      "cell_type": "code",
      "source": [
        "# please run this cell \n",
        "!pip install scikit-plot"
      ],
      "metadata": {
        "id": "rxj9g7hwNmMj",
        "colab": {
          "base_uri": "https://localhost:8080/"
        },
        "outputId": "0393aec8-14af-4af5-ec3f-1b3dd12a2e5c"
      },
      "execution_count": 345,
      "outputs": [
        {
          "output_type": "stream",
          "name": "stdout",
          "text": [
            "Looking in indexes: https://pypi.org/simple, https://us-python.pkg.dev/colab-wheels/public/simple/\n",
            "Requirement already satisfied: scikit-plot in /usr/local/lib/python3.7/dist-packages (0.3.7)\n",
            "Requirement already satisfied: scikit-learn>=0.18 in /usr/local/lib/python3.7/dist-packages (from scikit-plot) (1.0.2)\n",
            "Requirement already satisfied: matplotlib>=1.4.0 in /usr/local/lib/python3.7/dist-packages (from scikit-plot) (3.2.2)\n",
            "Requirement already satisfied: scipy>=0.9 in /usr/local/lib/python3.7/dist-packages (from scikit-plot) (1.7.3)\n",
            "Requirement already satisfied: joblib>=0.10 in /usr/local/lib/python3.7/dist-packages (from scikit-plot) (1.2.0)\n",
            "Requirement already satisfied: cycler>=0.10 in /usr/local/lib/python3.7/dist-packages (from matplotlib>=1.4.0->scikit-plot) (0.11.0)\n",
            "Requirement already satisfied: kiwisolver>=1.0.1 in /usr/local/lib/python3.7/dist-packages (from matplotlib>=1.4.0->scikit-plot) (1.4.4)\n",
            "Requirement already satisfied: numpy>=1.11 in /usr/local/lib/python3.7/dist-packages (from matplotlib>=1.4.0->scikit-plot) (1.21.6)\n",
            "Requirement already satisfied: python-dateutil>=2.1 in /usr/local/lib/python3.7/dist-packages (from matplotlib>=1.4.0->scikit-plot) (2.8.2)\n",
            "Requirement already satisfied: pyparsing!=2.0.4,!=2.1.2,!=2.1.6,>=2.0.1 in /usr/local/lib/python3.7/dist-packages (from matplotlib>=1.4.0->scikit-plot) (3.0.9)\n",
            "Requirement already satisfied: typing-extensions in /usr/local/lib/python3.7/dist-packages (from kiwisolver>=1.0.1->matplotlib>=1.4.0->scikit-plot) (4.1.1)\n",
            "Requirement already satisfied: six>=1.5 in /usr/local/lib/python3.7/dist-packages (from python-dateutil>=2.1->matplotlib>=1.4.0->scikit-plot) (1.15.0)\n",
            "Requirement already satisfied: threadpoolctl>=2.0.0 in /usr/local/lib/python3.7/dist-packages (from scikit-learn>=0.18->scikit-plot) (3.1.0)\n"
          ]
        }
      ]
    },
    {
      "cell_type": "code",
      "source": [
        "import scikitplot as skplt\n",
        "skplt.metrics.plot_roc(y_test_s, y_log_proba, title = 'ROC Plot for LR')"
      ],
      "metadata": {
        "colab": {
          "base_uri": "https://localhost:8080/",
          "height": 313
        },
        "id": "z63UXquYKLCC",
        "outputId": "7417a5fd-0b69-44a2-81ab-6837d3d3182d"
      },
      "execution_count": 355,
      "outputs": [
        {
          "output_type": "execute_result",
          "data": {
            "text/plain": [
              "<matplotlib.axes._subplots.AxesSubplot at 0x7f149e5ad490>"
            ]
          },
          "metadata": {},
          "execution_count": 355
        },
        {
          "output_type": "display_data",
          "data": {
            "text/plain": [
              "<Figure size 432x288 with 1 Axes>"
            ],
            "image/png": "[encoded data removed]"
          },
          "metadata": {
            "needs_background": "light"
          }
        }
      ]
    },
    {
      "cell_type": "markdown",
      "source": [
        "## Precision Recall Curve (PR Curve)"
      ],
      "metadata": {
        "id": "x9O6KMp9RRyV"
      }
    },
    {
      "cell_type": "code",
      "source": [
        "skplt.metrics.plot_precision_recall(y_test_s, y_log_proba, title = 'PR Curve for LR')"
      ],
      "metadata": {
        "colab": {
          "base_uri": "https://localhost:8080/",
          "height": 313
        },
        "id": "Z4dhTmcZKOFm",
        "outputId": "2174daef-a4e0-4adb-a87c-67adf7136cdc"
      },
      "execution_count": 356,
      "outputs": [
        {
          "output_type": "execute_result",
          "data": {
            "text/plain": [
              "<matplotlib.axes._subplots.AxesSubplot at 0x7f149dfcfb90>"
            ]
          },
          "metadata": {},
          "execution_count": 356
        },
        {
          "output_type": "display_data",
          "data": {
            "text/plain": [
              "<Figure size 432x288 with 1 Axes>"
            ],
            "image/png": "[encoded data removed]"
          },
          "metadata": {
            "needs_background": "light"
          }
        }
      ]
    },
    {
      "cell_type": "markdown",
      "source": [
        "## Confusion Matrix"
      ],
      "metadata": {
        "id": "2lsEQXuiRnAp"
      }
    },
    {
      "cell_type": "code",
      "source": [
        "from sklearn.metrics import plot_confusion_matrix\n",
        "plot_confusion_matrix(logisticRegr, x_test_s, y_test_s)  "
      ],
      "metadata": {
        "colab": {
          "base_uri": "https://localhost:8080/",
          "height": 297
        },
        "id": "hLziijSwhcBx",
        "outputId": "89dd58b0-0bb4-4e7c-c1ae-1f4f38dd95e3"
      },
      "execution_count": 360,
      "outputs": [
        {
          "output_type": "execute_result",
          "data": {
            "text/plain": [
              "<sklearn.metrics._plot.confusion_matrix.ConfusionMatrixDisplay at 0x7f149abb9290>"
            ]
          },
          "metadata": {},
          "execution_count": 360
        },
        {
          "output_type": "display_data",
          "data": {
            "text/plain": [
              "<Figure size 432x288 with 2 Axes>"
            ],
            "image/png": "[encoded data removed]"
          },
          "metadata": {
            "needs_background": "light"
          }
        }
      ]
    },
    {
      "cell_type": "markdown",
      "source": [
        "#Save LR model"
      ],
      "metadata": {
        "id": "IyLO2QR7k6OI"
      }
    },
    {
      "cell_type": "code",
      "source": [
        "# save the model to disk\n",
        "import pickle\n",
        "\n",
        "filename = 'finalized_model.sav'\n",
        "pickle.dump(logisticRegr, open(filename, 'wb'))"
      ],
      "metadata": {
        "id": "XQs6elNwMhzG"
      },
      "execution_count": 349,
      "outputs": []
    },
    {
      "cell_type": "code",
      "source": [
        "# If you want to read the model again\n",
        "# import pickle\n",
        "# filename = 'finalized_model.sav'\n",
        "# static_model = pickle.load(open(filename, 'rb'))"
      ],
      "metadata": {
        "id": "xAumj_oyQgse"
      },
      "execution_count": 350,
      "outputs": []
    },
    {
      "cell_type": "code",
      "source": [],
      "metadata": {
        "id": "_4hwFejRs677"
      },
      "execution_count": 353,
      "outputs": []
    }
  ]
}